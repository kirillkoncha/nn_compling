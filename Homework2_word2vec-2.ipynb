{
  "nbformat": 4,
  "nbformat_minor": 0,
  "metadata": {
    "kernelspec": {
      "display_name": "Python 3",
      "language": "python",
      "name": "python3"
    },
    "language_info": {
      "codemirror_mode": {
        "name": "ipython",
        "version": 3
      },
      "file_extension": ".py",
      "mimetype": "text/x-python",
      "name": "python",
      "nbconvert_exporter": "python",
      "pygments_lexer": "ipython3",
      "version": "3.6.8"
    },
    "colab": {
      "name": "Homework2_word2vec.ipynb",
      "provenance": [],
      "collapsed_sections": [
        "sr240ImA0mam",
        "hActhA9H0map",
        "suCy0eFd0ma5"
      ]
    }
  },
  "cells": [
    {
      "cell_type": "code",
      "metadata": {
        "id": "PhwTqu270mad"
      },
      "source": [
        "import json\n",
        "import random\n",
        "from tqdm import tqdm\n",
        "import numpy as np\n",
        "\n",
        "from matplotlib import pyplot as plt\n",
        "from sklearn.decomposition import TruncatedSVD\n",
        "from sklearn.manifold import TSNE\n",
        "\n",
        "import torch\n",
        "\n",
        "from pylab import rcParams\n",
        "rcParams['figure.figsize'] = 15, 15"
      ],
      "execution_count": 1,
      "outputs": []
    },
    {
      "cell_type": "markdown",
      "metadata": {
        "id": "2AZZHHAV0maf"
      },
      "source": [
        "# Что делать?\n",
        "Где есть пометка # CODE писать код\n",
        "\n",
        "[Полезный туториал](http://jalammar.github.io/illustrated-word2vec/)"
      ]
    },
    {
      "cell_type": "markdown",
      "metadata": {
        "id": "JsVHrjHw0mag"
      },
      "source": [
        "# Загружаем данные\n",
        "Они уже обработанные и токенизированные. Процесс можно посмотреть в тетрадке 1.1 Processing corpus"
      ]
    },
    {
      "cell_type": "code",
      "metadata": {
        "id": "fff7WB0E0mag"
      },
      "source": [
        "with open('processed_corpus.json') as f:\n",
        "    corpus = json.load(f)"
      ],
      "execution_count": 36,
      "outputs": []
    },
    {
      "cell_type": "code",
      "metadata": {
        "colab": {
          "base_uri": "https://localhost:8080/"
        },
        "id": "V56JwQot0mah",
        "outputId": "2f483bc0-5010-4561-dc0a-b68361dc1117"
      },
      "source": [
        "len(corpus)"
      ],
      "execution_count": 3,
      "outputs": [
        {
          "output_type": "execute_result",
          "data": {
            "text/plain": [
              "100000"
            ]
          },
          "metadata": {},
          "execution_count": 3
        }
      ]
    },
    {
      "cell_type": "code",
      "metadata": {
        "colab": {
          "base_uri": "https://localhost:8080/"
        },
        "id": "igNVaXCR0mah",
        "outputId": "1c2239e5-9503-4ef4-99dd-d05bfd695a49"
      },
      "source": [
        "for text in corpus[:5]:\n",
        "    print(' '.join(text))"
      ],
      "execution_count": null,
      "outputs": [
        {
          "output_type": "stream",
          "name": "stdout",
          "text": [
            "второй UNK год окончательно разочаровать решить податься альфабанк\n",
            "вернуть денежный средство лицевой счёт либо зачесть счёт погашение кредит\n",
            "притом ситуация решиться участие течение сутки заявить\n",
            "мой ##число летний жизнь это самый неповоротливый работник банк который видеть\n",
            "везде написать вклад принимать очередь это\n"
          ]
        }
      ]
    },
    {
      "cell_type": "markdown",
      "metadata": {
        "id": "MjqqHUfu0mai"
      },
      "source": [
        "# CBOW"
      ]
    },
    {
      "cell_type": "code",
      "metadata": {
        "id": "CDu4QWqf0mai"
      },
      "source": [
        "sample_text = corpus[0]"
      ],
      "execution_count": null,
      "outputs": []
    },
    {
      "cell_type": "code",
      "metadata": {
        "colab": {
          "base_uri": "https://localhost:8080/",
          "height": 37
        },
        "id": "2q4AKfwP0maj",
        "outputId": "d31f6f9a-2ab0-4d7e-d85f-314d3611eeef"
      },
      "source": [
        "' '.join(sample_text)"
      ],
      "execution_count": null,
      "outputs": [
        {
          "output_type": "execute_result",
          "data": {
            "application/vnd.google.colaboratory.intrinsic+json": {
              "type": "string"
            },
            "text/plain": [
              "'второй UNK год окончательно разочаровать решить податься альфабанк'"
            ]
          },
          "metadata": {},
          "execution_count": 112
        }
      ]
    },
    {
      "cell_type": "markdown",
      "metadata": {
        "id": "u4p-Sccx0maj"
      },
      "source": [
        "# Реализуйте разделение предложения на примеры методом CBOW"
      ]
    },
    {
      "cell_type": "code",
      "metadata": {
        "id": "Si4FA5AX0mak"
      },
      "source": [
        "def cbow_split(tokens, window, pad_token='PAD'):\n",
        "    \n",
        "    splits = []\n",
        "    #CODE\n",
        "    padding = [pad_token]*2\n",
        "    tokens = padding + tokens + padding\n",
        "    for i in range(window, len(tokens)-window):\n",
        "      center = tokens[i]\n",
        "      left = tokens[i-window:i]\n",
        "      right = tokens[i+1:i+1+window]\n",
        "      split = (left, center, right)\n",
        "      splits.append(split)\n",
        "\n",
        "    return splits"
      ],
      "execution_count": null,
      "outputs": []
    },
    {
      "cell_type": "code",
      "metadata": {
        "id": "jpNWCdfV0mak"
      },
      "source": [
        "splits = cbow_split(sample_text, window=2)"
      ],
      "execution_count": null,
      "outputs": []
    },
    {
      "cell_type": "code",
      "metadata": {
        "id": "pCpnw8Zw0mal",
        "colab": {
          "base_uri": "https://localhost:8080/"
        },
        "outputId": "2c252c52-3d88-4f1f-f241-04844bac28b4"
      },
      "source": [
        "for sample in splits:\n",
        "    print('Левый контекст:', sample[0])\n",
        "    print('Центральное слово:', sample[1])\n",
        "    print('Правый контекст:', sample[2], end='\\n\\n')"
      ],
      "execution_count": null,
      "outputs": [
        {
          "output_type": "stream",
          "name": "stdout",
          "text": [
            "Левый контекст: ['PAD', 'PAD']\n",
            "Центральное слово: второй\n",
            "Правый контекст: ['UNK', 'год']\n",
            "\n",
            "Левый контекст: ['PAD', 'второй']\n",
            "Центральное слово: UNK\n",
            "Правый контекст: ['год', 'окончательно']\n",
            "\n",
            "Левый контекст: ['второй', 'UNK']\n",
            "Центральное слово: год\n",
            "Правый контекст: ['окончательно', 'разочаровать']\n",
            "\n",
            "Левый контекст: ['UNK', 'год']\n",
            "Центральное слово: окончательно\n",
            "Правый контекст: ['разочаровать', 'решить']\n",
            "\n",
            "Левый контекст: ['год', 'окончательно']\n",
            "Центральное слово: разочаровать\n",
            "Правый контекст: ['решить', 'податься']\n",
            "\n",
            "Левый контекст: ['окончательно', 'разочаровать']\n",
            "Центральное слово: решить\n",
            "Правый контекст: ['податься', 'альфабанк']\n",
            "\n",
            "Левый контекст: ['разочаровать', 'решить']\n",
            "Центральное слово: податься\n",
            "Правый контекст: ['альфабанк', 'PAD']\n",
            "\n",
            "Левый контекст: ['решить', 'податься']\n",
            "Центральное слово: альфабанк\n",
            "Правый контекст: ['PAD', 'PAD']\n",
            "\n"
          ]
        }
      ]
    },
    {
      "cell_type": "code",
      "metadata": {
        "id": "tLnZlMOJ0mal",
        "colab": {
          "base_uri": "https://localhost:8080/"
        },
        "outputId": "952ca18c-6994-4a43-d860-cf9a7455eca4"
      },
      "source": [
        "splits"
      ],
      "execution_count": null,
      "outputs": [
        {
          "output_type": "execute_result",
          "data": {
            "text/plain": [
              "[(['PAD', 'PAD'], 'второй', ['UNK', 'год']),\n",
              " (['PAD', 'второй'], 'UNK', ['год', 'окончательно']),\n",
              " (['второй', 'UNK'], 'год', ['окончательно', 'разочаровать']),\n",
              " (['UNK', 'год'], 'окончательно', ['разочаровать', 'решить']),\n",
              " (['год', 'окончательно'], 'разочаровать', ['решить', 'податься']),\n",
              " (['окончательно', 'разочаровать'], 'решить', ['податься', 'альфабанк']),\n",
              " (['разочаровать', 'решить'], 'податься', ['альфабанк', 'PAD']),\n",
              " (['решить', 'податься'], 'альфабанк', ['PAD', 'PAD'])]"
            ]
          },
          "metadata": {},
          "execution_count": 10
        }
      ]
    },
    {
      "cell_type": "markdown",
      "metadata": {
        "id": "3lbnB3me0mal"
      },
      "source": [
        "# Expected\n",
        "\n",
        "```python\n",
        "[(['PAD', 'PAD'], 'вопрос', ['почему', 'например']),\n",
        " (['PAD', 'вопрос'], 'почему', ['например', 'китайский']),\n",
        " (['вопрос', 'почему'], 'например', ['китайский', 'японский']),\n",
        " (['почему', 'например'], 'китайский', ['японский', 'UNK']),\n",
        " (['например', 'китайский'], 'японский', ['UNK', 'PAD']),\n",
        " (['китайский', 'японский'], 'UNK', ['PAD', 'PAD'])]\n",
        "```"
      ]
    },
    {
      "cell_type": "code",
      "metadata": {
        "id": "gTuDWQcG0mam",
        "colab": {
          "base_uri": "https://localhost:8080/"
        },
        "outputId": "02657405-0d09-4606-b08a-e9c13498c32b"
      },
      "source": [
        "cbow_split(sample_text, window=3)"
      ],
      "execution_count": null,
      "outputs": [
        {
          "output_type": "execute_result",
          "data": {
            "text/plain": [
              "[(['PAD', 'PAD', 'второй'], 'UNK', ['год', 'окончательно', 'разочаровать']),\n",
              " (['PAD', 'второй', 'UNK'], 'год', ['окончательно', 'разочаровать', 'решить']),\n",
              " (['второй', 'UNK', 'год'],\n",
              "  'окончательно',\n",
              "  ['разочаровать', 'решить', 'податься']),\n",
              " (['UNK', 'год', 'окончательно'],\n",
              "  'разочаровать',\n",
              "  ['решить', 'податься', 'альфабанк']),\n",
              " (['год', 'окончательно', 'разочаровать'],\n",
              "  'решить',\n",
              "  ['податься', 'альфабанк', 'PAD']),\n",
              " (['окончательно', 'разочаровать', 'решить'],\n",
              "  'податься',\n",
              "  ['альфабанк', 'PAD', 'PAD'])]"
            ]
          },
          "metadata": {},
          "execution_count": 11
        }
      ]
    },
    {
      "cell_type": "markdown",
      "metadata": {
        "id": "sr240ImA0mam"
      },
      "source": [
        "# Expected\n",
        "\n",
        "```python\n",
        "[(['PAD', 'PAD', 'PAD'], 'вопрос', ['почему', 'например', 'китайский']),\n",
        " (['PAD', 'PAD', 'вопрос'], 'почему', ['например', 'китайский', 'японский']),\n",
        " (['PAD', 'вопрос', 'почему'], 'например', ['китайский', 'японский', 'UNK']),\n",
        " (['вопрос', 'почему', 'например'], 'китайский', ['японский', 'UNK', 'PAD']),\n",
        " (['почему', 'например', 'китайский'], 'японский', ['UNK', 'PAD', 'PAD']),\n",
        " (['например', 'китайский', 'японский'], 'UNK', ['PAD', 'PAD', 'PAD'])]\n",
        "```"
      ]
    },
    {
      "cell_type": "markdown",
      "metadata": {
        "id": "LVo1WhM40man"
      },
      "source": [
        "# Skipgram"
      ]
    },
    {
      "cell_type": "code",
      "metadata": {
        "colab": {
          "base_uri": "https://localhost:8080/",
          "height": 37
        },
        "id": "RJ7urKfd0man",
        "outputId": "cb98b734-0923-4d7f-ac97-f8392ffba5db"
      },
      "source": [
        "' '.join(sample_text)"
      ],
      "execution_count": null,
      "outputs": [
        {
          "output_type": "execute_result",
          "data": {
            "application/vnd.google.colaboratory.intrinsic+json": {
              "type": "string"
            },
            "text/plain": [
              "'второй UNK год окончательно разочаровать решить податься альфабанк'"
            ]
          },
          "metadata": {},
          "execution_count": 113
        }
      ]
    },
    {
      "cell_type": "markdown",
      "metadata": {
        "id": "mlvkECG30man"
      },
      "source": [
        "# Реализуйте разделение предложения на примеры методом Skipgram"
      ]
    },
    {
      "cell_type": "code",
      "metadata": {
        "id": "MdgWJBbq0mao"
      },
      "source": [
        "def skipgram_split(tokens, window):\n",
        "    \n",
        "    splits = []\n",
        "    \n",
        "    # CODE\n",
        "    for i, center in enumerate(tokens):\n",
        "        left = max(i-window, 0)\n",
        "        right = min(i+window+1, len(tokens))\n",
        "        left_context = tokens[left:i]\n",
        "        right_context = tokens[i+1:right]\n",
        "        full_context = left_context + right_context\n",
        "        for context in full_context:\n",
        "            splits.append((context, center))\n",
        "    \n",
        "    return splits"
      ],
      "execution_count": 2,
      "outputs": []
    },
    {
      "cell_type": "code",
      "metadata": {
        "id": "Ll4bLOqE0mao"
      },
      "source": [
        "splits = skipgram_split(sample_text, window=2)"
      ],
      "execution_count": null,
      "outputs": []
    },
    {
      "cell_type": "code",
      "metadata": {
        "colab": {
          "base_uri": "https://localhost:8080/"
        },
        "id": "VwdM51tN8Jhg",
        "outputId": "4c041a01-d056-4e7e-9853-5bb4f32f06cf"
      },
      "source": [
        "splits"
      ],
      "execution_count": null,
      "outputs": [
        {
          "output_type": "execute_result",
          "data": {
            "text/plain": [
              "[('UNK', 'второй'),\n",
              " ('год', 'второй'),\n",
              " ('второй', 'UNK'),\n",
              " ('год', 'UNK'),\n",
              " ('окончательно', 'UNK'),\n",
              " ('второй', 'год'),\n",
              " ('UNK', 'год'),\n",
              " ('окончательно', 'год'),\n",
              " ('разочаровать', 'год'),\n",
              " ('UNK', 'окончательно'),\n",
              " ('год', 'окончательно'),\n",
              " ('разочаровать', 'окончательно'),\n",
              " ('решить', 'окончательно'),\n",
              " ('год', 'разочаровать'),\n",
              " ('окончательно', 'разочаровать'),\n",
              " ('решить', 'разочаровать'),\n",
              " ('податься', 'разочаровать'),\n",
              " ('окончательно', 'решить'),\n",
              " ('разочаровать', 'решить'),\n",
              " ('податься', 'решить'),\n",
              " ('альфабанк', 'решить'),\n",
              " ('разочаровать', 'податься'),\n",
              " ('решить', 'податься'),\n",
              " ('альфабанк', 'податься'),\n",
              " ('решить', 'альфабанк'),\n",
              " ('податься', 'альфабанк')]"
            ]
          },
          "metadata": {},
          "execution_count": 58
        }
      ]
    },
    {
      "cell_type": "code",
      "metadata": {
        "id": "2sQa5nHD0mao",
        "colab": {
          "base_uri": "https://localhost:8080/"
        },
        "outputId": "ed1971a1-9b08-4aba-f49f-272d95568c03"
      },
      "source": [
        "for sample in splits:\n",
        "    print('Контекст:', sample[0])\n",
        "    print('Центральное слово:', sample[1], end='\\n\\n')"
      ],
      "execution_count": null,
      "outputs": [
        {
          "output_type": "stream",
          "name": "stdout",
          "text": [
            "Контекст: UNK\n",
            "Центральное слово: второй\n",
            "\n",
            "Контекст: год\n",
            "Центральное слово: второй\n",
            "\n",
            "Контекст: второй\n",
            "Центральное слово: UNK\n",
            "\n",
            "Контекст: год\n",
            "Центральное слово: UNK\n",
            "\n",
            "Контекст: окончательно\n",
            "Центральное слово: UNK\n",
            "\n",
            "Контекст: второй\n",
            "Центральное слово: год\n",
            "\n",
            "Контекст: UNK\n",
            "Центральное слово: год\n",
            "\n",
            "Контекст: окончательно\n",
            "Центральное слово: год\n",
            "\n",
            "Контекст: разочаровать\n",
            "Центральное слово: год\n",
            "\n",
            "Контекст: UNK\n",
            "Центральное слово: окончательно\n",
            "\n",
            "Контекст: год\n",
            "Центральное слово: окончательно\n",
            "\n",
            "Контекст: разочаровать\n",
            "Центральное слово: окончательно\n",
            "\n",
            "Контекст: решить\n",
            "Центральное слово: окончательно\n",
            "\n",
            "Контекст: год\n",
            "Центральное слово: разочаровать\n",
            "\n",
            "Контекст: окончательно\n",
            "Центральное слово: разочаровать\n",
            "\n",
            "Контекст: решить\n",
            "Центральное слово: разочаровать\n",
            "\n",
            "Контекст: податься\n",
            "Центральное слово: разочаровать\n",
            "\n",
            "Контекст: окончательно\n",
            "Центральное слово: решить\n",
            "\n",
            "Контекст: разочаровать\n",
            "Центральное слово: решить\n",
            "\n",
            "Контекст: податься\n",
            "Центральное слово: решить\n",
            "\n",
            "Контекст: альфабанк\n",
            "Центральное слово: решить\n",
            "\n",
            "Контекст: разочаровать\n",
            "Центральное слово: податься\n",
            "\n",
            "Контекст: решить\n",
            "Центральное слово: податься\n",
            "\n",
            "Контекст: альфабанк\n",
            "Центральное слово: податься\n",
            "\n",
            "Контекст: решить\n",
            "Центральное слово: альфабанк\n",
            "\n",
            "Контекст: податься\n",
            "Центральное слово: альфабанк\n",
            "\n"
          ]
        }
      ]
    },
    {
      "cell_type": "code",
      "metadata": {
        "id": "o6K99ICy0mao",
        "colab": {
          "base_uri": "https://localhost:8080/"
        },
        "outputId": "6dad0925-d70d-425f-b62d-5d1ac344c4d5"
      },
      "source": [
        "skipgram_split(sample_text, window=2)"
      ],
      "execution_count": null,
      "outputs": [
        {
          "output_type": "execute_result",
          "data": {
            "text/plain": [
              "[('UNK', 'второй'),\n",
              " ('год', 'второй'),\n",
              " ('второй', 'UNK'),\n",
              " ('год', 'UNK'),\n",
              " ('окончательно', 'UNK'),\n",
              " ('второй', 'год'),\n",
              " ('UNK', 'год'),\n",
              " ('окончательно', 'год'),\n",
              " ('разочаровать', 'год'),\n",
              " ('UNK', 'окончательно'),\n",
              " ('год', 'окончательно'),\n",
              " ('разочаровать', 'окончательно'),\n",
              " ('решить', 'окончательно'),\n",
              " ('год', 'разочаровать'),\n",
              " ('окончательно', 'разочаровать'),\n",
              " ('решить', 'разочаровать'),\n",
              " ('податься', 'разочаровать'),\n",
              " ('окончательно', 'решить'),\n",
              " ('разочаровать', 'решить'),\n",
              " ('податься', 'решить'),\n",
              " ('альфабанк', 'решить'),\n",
              " ('разочаровать', 'податься'),\n",
              " ('решить', 'податься'),\n",
              " ('альфабанк', 'податься'),\n",
              " ('решить', 'альфабанк'),\n",
              " ('податься', 'альфабанк')]"
            ]
          },
          "metadata": {},
          "execution_count": 17
        }
      ]
    },
    {
      "cell_type": "markdown",
      "metadata": {
        "id": "hActhA9H0map"
      },
      "source": [
        "# Expected\n",
        "\n",
        "```python\n",
        "[('почему', 'вопрос'),\n",
        " ('например', 'вопрос'),\n",
        " ('вопрос', 'почему'),\n",
        " ('например', 'почему'),\n",
        " ('китайский', 'почему'),\n",
        " ('вопрос', 'например'),\n",
        " ('почему', 'например'),\n",
        " ('китайский', 'например'),\n",
        " ('японский', 'например'),\n",
        " ('почему', 'китайский'),\n",
        " ('например', 'китайский'),\n",
        " ('японский', 'китайский'),\n",
        " ('UNK', 'китайский'),\n",
        " ('например', 'японский'),\n",
        " ('китайский', 'японский'),\n",
        " ('UNK', 'японский'),\n",
        " ('китайский', 'UNK'),\n",
        " ('японский', 'UNK')]\n",
        "```"
      ]
    },
    {
      "cell_type": "code",
      "metadata": {
        "id": "zXDzGAOF0map",
        "colab": {
          "base_uri": "https://localhost:8080/"
        },
        "outputId": "e67e7d2a-f8ba-48dc-d7a2-935fec4c44a5"
      },
      "source": [
        "skipgram_split(sample_text, window=3)"
      ],
      "execution_count": null,
      "outputs": [
        {
          "output_type": "execute_result",
          "data": {
            "text/plain": [
              "[('UNK', 'второй'),\n",
              " ('год', 'второй'),\n",
              " ('окончательно', 'второй'),\n",
              " ('второй', 'UNK'),\n",
              " ('год', 'UNK'),\n",
              " ('окончательно', 'UNK'),\n",
              " ('разочаровать', 'UNK'),\n",
              " ('второй', 'год'),\n",
              " ('UNK', 'год'),\n",
              " ('окончательно', 'год'),\n",
              " ('разочаровать', 'год'),\n",
              " ('решить', 'год'),\n",
              " ('второй', 'окончательно'),\n",
              " ('UNK', 'окончательно'),\n",
              " ('год', 'окончательно'),\n",
              " ('разочаровать', 'окончательно'),\n",
              " ('решить', 'окончательно'),\n",
              " ('податься', 'окончательно'),\n",
              " ('UNK', 'разочаровать'),\n",
              " ('год', 'разочаровать'),\n",
              " ('окончательно', 'разочаровать'),\n",
              " ('решить', 'разочаровать'),\n",
              " ('податься', 'разочаровать'),\n",
              " ('альфабанк', 'разочаровать'),\n",
              " ('год', 'решить'),\n",
              " ('окончательно', 'решить'),\n",
              " ('разочаровать', 'решить'),\n",
              " ('податься', 'решить'),\n",
              " ('альфабанк', 'решить'),\n",
              " ('окончательно', 'податься'),\n",
              " ('разочаровать', 'податься'),\n",
              " ('решить', 'податься'),\n",
              " ('альфабанк', 'податься'),\n",
              " ('разочаровать', 'альфабанк'),\n",
              " ('решить', 'альфабанк'),\n",
              " ('податься', 'альфабанк')]"
            ]
          },
          "metadata": {},
          "execution_count": 115
        }
      ]
    },
    {
      "cell_type": "markdown",
      "metadata": {
        "id": "GTmHPVjn0map"
      },
      "source": [
        "# Expected\n",
        "\n",
        "```python\n",
        "[('почему', 'вопрос'),\n",
        " ('например', 'вопрос'),\n",
        " ('китайский', 'вопрос'),\n",
        " ('вопрос', 'почему'),\n",
        " ('например', 'почему'),\n",
        " ('китайский', 'почему'),\n",
        " ('японский', 'почему'),\n",
        " ('вопрос', 'например'),\n",
        " ('почему', 'например'),\n",
        " ('китайский', 'например'),\n",
        " ('японский', 'например'),\n",
        " ('UNK', 'например'),\n",
        " ('вопрос', 'китайский'),\n",
        " ('почему', 'китайский'),\n",
        " ('например', 'китайский'),\n",
        " ('японский', 'китайский'),\n",
        " ('UNK', 'китайский'),\n",
        " ('почему', 'японский'),\n",
        " ('например', 'японский'),\n",
        " ('китайский', 'японский'),\n",
        " ('UNK', 'японский'),\n",
        " ('например', 'UNK'),\n",
        " ('китайский', 'UNK'),\n",
        " ('японский', 'UNK')]\n",
        "```"
      ]
    },
    {
      "cell_type": "markdown",
      "metadata": {
        "id": "IDH6rllY6C44"
      },
      "source": [
        "Это и некоторые другие вещи, типа обучения модели, я обернул в функции, чтобы проще потом было использовать при экспериментах"
      ]
    },
    {
      "cell_type": "code",
      "metadata": {
        "id": "EG5b8BaE0maq"
      },
      "source": [
        "def get_word2index(path='processed_corpus.json'):\n",
        "\n",
        "  word2index = {}\n",
        "\n",
        "  with open(path) as f:\n",
        "    corpus = json.load(f)\n",
        "  \n",
        "  for text in corpus:\n",
        "    for token in text:\n",
        "      if token not in word2index:\n",
        "        word2index[token] = len(word2index)\n",
        "  \n",
        "  return word2index"
      ],
      "execution_count": 3,
      "outputs": []
    },
    {
      "cell_type": "code",
      "metadata": {
        "id": "e038vRCpzSID"
      },
      "source": [
        "word2index = get_word2index()"
      ],
      "execution_count": 37,
      "outputs": []
    },
    {
      "cell_type": "code",
      "metadata": {
        "id": "4SM4_YvC0maq",
        "colab": {
          "base_uri": "https://localhost:8080/"
        },
        "outputId": "ac44f298-fcf2-4ec2-eb2d-94ee639ed0bc"
      },
      "source": [
        "len(word2index)"
      ],
      "execution_count": 6,
      "outputs": [
        {
          "output_type": "execute_result",
          "data": {
            "text/plain": [
              "13076"
            ]
          },
          "metadata": {},
          "execution_count": 6
        }
      ]
    },
    {
      "cell_type": "code",
      "metadata": {
        "id": "o20Beff90maq",
        "colab": {
          "base_uri": "https://localhost:8080/"
        },
        "outputId": "f5520863-15c5-40a6-e88b-b7b964d35ca7"
      },
      "source": [
        "word2index['UNK']"
      ],
      "execution_count": 7,
      "outputs": [
        {
          "output_type": "execute_result",
          "data": {
            "text/plain": [
              "1"
            ]
          },
          "metadata": {},
          "execution_count": 7
        }
      ]
    },
    {
      "cell_type": "code",
      "metadata": {
        "id": "sAfBW4cr0mar",
        "colab": {
          "base_uri": "https://localhost:8080/"
        },
        "outputId": "0914aea9-9671-490f-b982-be27ab59fe5c"
      },
      "source": [
        "[word2index[tok] if tok in word2index else word2index['UNK'] for tok in 'мама мыть рама'.split()]"
      ],
      "execution_count": 8,
      "outputs": [
        {
          "output_type": "execute_result",
          "data": {
            "text/plain": [
              "[1282, 8436, 1]"
            ]
          },
          "metadata": {},
          "execution_count": 8
        }
      ]
    },
    {
      "cell_type": "markdown",
      "metadata": {
        "id": "gEmQnGy00mar"
      },
      "source": [
        "# Torch Dataset\n",
        "В торче есть очень удобная читалка данных"
      ]
    },
    {
      "cell_type": "code",
      "metadata": {
        "id": "vdxGritF0mar"
      },
      "source": [
        "from torch.utils.data import Dataset, DataLoader"
      ],
      "execution_count": 4,
      "outputs": []
    },
    {
      "cell_type": "code",
      "metadata": {
        "id": "BIB9EWf-0mar"
      },
      "source": [
        "# игрушечный датасет\n",
        "# 121535 примера, 4 фичи, 3 класса\n",
        "some_data_x = np.random.rand(121535, 4)\n",
        "some_data_y = np.random.randint(3, size=(121535,))"
      ],
      "execution_count": null,
      "outputs": []
    },
    {
      "cell_type": "code",
      "metadata": {
        "id": "uKZKiW7w0mas",
        "colab": {
          "base_uri": "https://localhost:8080/"
        },
        "outputId": "7312f6f2-646b-4746-fe71-8a73d92ed36f"
      },
      "source": [
        "# соверешенно игрушечный, просто цифры\n",
        "some_data_x[:10]"
      ],
      "execution_count": null,
      "outputs": [
        {
          "output_type": "execute_result",
          "data": {
            "text/plain": [
              "array([[0.80763932, 0.70000794, 0.08786041, 0.15615916],\n",
              "       [0.16952997, 0.47373278, 0.6171898 , 0.25251959],\n",
              "       [0.57328739, 0.46611352, 0.64594597, 0.89625784],\n",
              "       [0.0590957 , 0.36445452, 0.62500675, 0.1118449 ],\n",
              "       [0.66597543, 0.06839245, 0.34237243, 0.91512317],\n",
              "       [0.46371213, 0.62554359, 0.01332552, 0.67483071],\n",
              "       [0.15071175, 0.27628772, 0.64633953, 0.4587506 ],\n",
              "       [0.36412671, 0.2795205 , 0.60432103, 0.17327947],\n",
              "       [0.64176477, 0.86385814, 0.86976857, 0.95143235],\n",
              "       [0.3227515 , 0.93697474, 0.19408151, 0.73823143]])"
            ]
          },
          "metadata": {},
          "execution_count": 11
        }
      ]
    },
    {
      "cell_type": "code",
      "metadata": {
        "id": "sy26g5fz0mas",
        "colab": {
          "base_uri": "https://localhost:8080/"
        },
        "outputId": "c6942d61-92f8-44e3-a55b-8445a57c598c"
      },
      "source": [
        "some_data_y"
      ],
      "execution_count": null,
      "outputs": [
        {
          "output_type": "execute_result",
          "data": {
            "text/plain": [
              "array([2, 1, 0, ..., 2, 1, 2])"
            ]
          },
          "metadata": {},
          "execution_count": 12
        }
      ]
    },
    {
      "cell_type": "code",
      "metadata": {
        "id": "1T528aDF0mas"
      },
      "source": [
        "class ToyDataset(Dataset):\n",
        "    \n",
        "    def __init__(self, data_x, data_y):\n",
        "        \n",
        "        super().__init__()\n",
        "        \n",
        "        self.data_x = data_x\n",
        "        self.data_y = data_y\n",
        "        \n",
        "    def __len__(self):\n",
        "        \n",
        "        # Нужно обязательно определить эту функцию\n",
        "        # Должна возвращать размер датасета\n",
        "        \n",
        "        return len(self.data_x)\n",
        "    \n",
        "    def __getitem__(self, idx):\n",
        "        \n",
        "        # Еще нужно определить этот метод\n",
        "        # То есть как мы будем доставать наши данные по индексу\n",
        "        \n",
        "        return self.data_x[idx], self.data_y[idx]"
      ],
      "execution_count": null,
      "outputs": []
    },
    {
      "cell_type": "code",
      "metadata": {
        "id": "08QdKk230mas"
      },
      "source": [
        "some_dataset = ToyDataset(some_data_x, some_data_y)"
      ],
      "execution_count": null,
      "outputs": []
    },
    {
      "cell_type": "code",
      "metadata": {
        "id": "eDj-ki7a0mat",
        "colab": {
          "base_uri": "https://localhost:8080/"
        },
        "outputId": "885cf459-5f67-4fac-cc2e-26f085baa812"
      },
      "source": [
        "some_dataset[5], some_dataset[467]"
      ],
      "execution_count": null,
      "outputs": [
        {
          "output_type": "execute_result",
          "data": {
            "text/plain": [
              "((array([0.46371213, 0.62554359, 0.01332552, 0.67483071]), 2),\n",
              " (array([0.65352849, 0.26169994, 0.51280673, 0.20233653]), 0))"
            ]
          },
          "metadata": {},
          "execution_count": 15
        }
      ]
    },
    {
      "cell_type": "code",
      "metadata": {
        "id": "MyvkysSY0mat"
      },
      "source": [
        "some_loader = DataLoader(some_dataset, batch_size=16, shuffle=True)"
      ],
      "execution_count": null,
      "outputs": []
    },
    {
      "cell_type": "code",
      "metadata": {
        "id": "JOqFY3480mat",
        "colab": {
          "base_uri": "https://localhost:8080/"
        },
        "outputId": "737a7af6-ee41-415e-8d71-6210200b6312"
      },
      "source": [
        "for x, y in some_loader:\n",
        "    break\n",
        "    \n",
        "len(x), x"
      ],
      "execution_count": null,
      "outputs": [
        {
          "output_type": "execute_result",
          "data": {
            "text/plain": [
              "(16, tensor([[0.0912, 0.9040, 0.8419, 0.3865],\n",
              "         [0.8889, 0.0763, 0.7034, 0.2864],\n",
              "         [0.3969, 0.6151, 0.8696, 0.0746],\n",
              "         [0.4180, 0.9891, 0.5861, 0.5383],\n",
              "         [0.3807, 0.7938, 0.6785, 0.7255],\n",
              "         [0.4778, 0.2167, 0.2917, 0.0697],\n",
              "         [0.7829, 0.4661, 0.3769, 0.6277],\n",
              "         [0.6035, 0.8709, 0.4871, 0.2002],\n",
              "         [0.3345, 0.1266, 0.3873, 0.1573],\n",
              "         [0.6202, 0.9935, 0.6827, 0.2273],\n",
              "         [0.6765, 0.9771, 0.9016, 0.4413],\n",
              "         [0.6801, 0.3531, 0.9752, 0.7508],\n",
              "         [0.6724, 0.6285, 0.6237, 0.9349],\n",
              "         [0.1133, 0.3670, 0.3482, 0.9445],\n",
              "         [0.6212, 0.9264, 0.7261, 0.0546],\n",
              "         [0.6711, 0.5993, 0.1075, 0.2664]], dtype=torch.float64))"
            ]
          },
          "metadata": {},
          "execution_count": 17
        }
      ]
    },
    {
      "cell_type": "code",
      "metadata": {
        "id": "JM8V_Cw10mat",
        "colab": {
          "base_uri": "https://localhost:8080/"
        },
        "outputId": "f188b9ef-0c2a-4765-a977-eeb9be601ec0"
      },
      "source": [
        "for x, y in some_loader:\n",
        "    pass\n",
        "\n",
        "len(x)"
      ],
      "execution_count": null,
      "outputs": [
        {
          "output_type": "execute_result",
          "data": {
            "text/plain": [
              "15"
            ]
          },
          "metadata": {},
          "execution_count": 18
        }
      ]
    },
    {
      "cell_type": "code",
      "metadata": {
        "id": "H6j_-BPL0mau",
        "colab": {
          "base_uri": "https://localhost:8080/"
        },
        "outputId": "fac9400f-1d78-427e-a5e2-e12c9873565a"
      },
      "source": [
        "# почему 13?\n",
        "# потому что количество наших данных нацело не делится на 16\n",
        "# и поэтому последний батч меньше 16-ти\n",
        "len(some_dataset) % 16"
      ],
      "execution_count": null,
      "outputs": [
        {
          "output_type": "execute_result",
          "data": {
            "text/plain": [
              "15"
            ]
          },
          "metadata": {},
          "execution_count": 19
        }
      ]
    },
    {
      "cell_type": "markdown",
      "metadata": {
        "id": "ZLhRXopf0mau"
      },
      "source": [
        "# А зачем?"
      ]
    },
    {
      "cell_type": "code",
      "metadata": {
        "id": "ZQE-Hv7N0mau"
      },
      "source": [
        "class ToyDataset(Dataset):\n",
        "    \n",
        "    def __init__(self, data_x, data_y):\n",
        "        \n",
        "        super().__init__()\n",
        "        \n",
        "        self.data_x = data_x\n",
        "        self.data_y = data_y\n",
        "        \n",
        "    def __len__(self):\n",
        "        \n",
        "        # Нужно обязательно определить эту функцию\n",
        "        # Должна возвращать размер датасета\n",
        "        \n",
        "        return len(self.data_x)\n",
        "    \n",
        "    @staticmethod\n",
        "    def add_pow_features(x, n=2):\n",
        "        \n",
        "        return np.concatenate([x, x ** n]) \n",
        "    \n",
        "    @staticmethod\n",
        "    def add_log_features(x):\n",
        "        \n",
        "        return np.concatenate([x, np.log(x)]) \n",
        "    \n",
        "    def __getitem__(self, idx):\n",
        "        \n",
        "        # Еще нужно определить этот метод\n",
        "        # То есть как мы будем доставать наши данные по индексу\n",
        "        \n",
        "        x = self.data_x[idx]\n",
        "        \n",
        "        # внутри датасета мы можем делать все что угодно с нашими данными\n",
        "        # например выше определим функции, которые добавляют степенные фичи\n",
        "        x = self.add_pow_features(x, n=2)\n",
        "        x = self.add_pow_features(x, n=3)\n",
        "        # и еще возьмем логарифмические фичи\n",
        "        x = self.add_log_features(x)\n",
        "        \n",
        "        y = self.data_y[idx]\n",
        "        \n",
        "        return x, y"
      ],
      "execution_count": null,
      "outputs": []
    },
    {
      "cell_type": "code",
      "metadata": {
        "id": "dR_EwnUN0mau"
      },
      "source": [
        "toy_dataset = ToyDataset(some_data_x, some_data_y)"
      ],
      "execution_count": null,
      "outputs": []
    },
    {
      "cell_type": "code",
      "metadata": {
        "id": "R35tWKpE0mav"
      },
      "source": [
        "toy_loader = DataLoader(dataset=toy_dataset, batch_size=128)"
      ],
      "execution_count": null,
      "outputs": []
    },
    {
      "cell_type": "code",
      "metadata": {
        "id": "35M7iSw00mav"
      },
      "source": [
        "for x, y in toy_loader:\n",
        "    break"
      ],
      "execution_count": null,
      "outputs": []
    },
    {
      "cell_type": "code",
      "metadata": {
        "id": "YheszOZX0mav",
        "colab": {
          "base_uri": "https://localhost:8080/"
        },
        "outputId": "766acebc-8d97-425d-a2d4-50830d196a90"
      },
      "source": [
        "x.shape"
      ],
      "execution_count": null,
      "outputs": [
        {
          "output_type": "execute_result",
          "data": {
            "text/plain": [
              "torch.Size([128, 32])"
            ]
          },
          "metadata": {},
          "execution_count": 24
        }
      ]
    },
    {
      "cell_type": "code",
      "metadata": {
        "id": "c258rPsp0mav",
        "colab": {
          "base_uri": "https://localhost:8080/"
        },
        "outputId": "15def3b5-4e0d-4588-aba5-e5a1959d0519"
      },
      "source": [
        "# заметим, что мы сразу получаем торчовый формат данных\n",
        "x"
      ],
      "execution_count": null,
      "outputs": [
        {
          "output_type": "execute_result",
          "data": {
            "text/plain": [
              "tensor([[ 8.0764e-01,  7.0001e-01,  8.7860e-02,  ..., -2.1400e+00,\n",
              "         -1.4592e+01, -1.1141e+01],\n",
              "        [ 1.6953e-01,  4.7373e-01,  6.1719e-01,  ..., -4.4827e+00,\n",
              "         -2.8955e+00, -8.2576e+00],\n",
              "        [ 5.7329e-01,  4.6611e-01,  6.4595e-01,  ..., -4.5800e+00,\n",
              "         -2.6222e+00, -6.5716e-01],\n",
              "        ...,\n",
              "        [ 3.7118e-01,  9.3891e-01,  1.5279e-02,  ..., -3.7820e-01,\n",
              "         -2.5088e+01, -3.7898e-01],\n",
              "        [ 8.0628e-01,  7.2011e-01,  7.2882e-01,  ..., -1.9701e+00,\n",
              "         -1.8980e+00, -8.5226e+00],\n",
              "        [ 4.2888e-01,  5.4273e-01,  6.9399e-01,  ..., -3.6669e+00,\n",
              "         -2.1918e+00, -5.9809e-01]], dtype=torch.float64)"
            ]
          },
          "metadata": {},
          "execution_count": 25
        }
      ]
    },
    {
      "cell_type": "code",
      "metadata": {
        "id": "VOl09Hr90mav",
        "colab": {
          "base_uri": "https://localhost:8080/"
        },
        "outputId": "147ac7e9-31e4-4d01-cdf6-6b71cf1e285a"
      },
      "source": [
        "y"
      ],
      "execution_count": null,
      "outputs": [
        {
          "output_type": "execute_result",
          "data": {
            "text/plain": [
              "tensor([2, 1, 0, 2, 0, 2, 2, 2, 1, 0, 2, 2, 1, 1, 2, 1, 1, 1, 2, 0, 2, 0, 1, 2,\n",
              "        2, 0, 2, 2, 1, 1, 0, 2, 0, 0, 2, 0, 2, 1, 0, 2, 2, 2, 2, 1, 0, 1, 0, 2,\n",
              "        2, 2, 0, 2, 2, 1, 2, 1, 2, 2, 1, 1, 1, 0, 0, 1, 1, 0, 1, 1, 2, 0, 2, 2,\n",
              "        2, 2, 0, 2, 2, 0, 2, 0, 1, 1, 0, 1, 0, 1, 0, 0, 0, 2, 1, 2, 0, 1, 1, 1,\n",
              "        2, 1, 1, 2, 2, 1, 2, 2, 0, 2, 0, 0, 0, 2, 1, 0, 0, 1, 1, 0, 1, 2, 0, 0,\n",
              "        1, 2, 0, 0, 0, 1, 2, 1])"
            ]
          },
          "metadata": {},
          "execution_count": 26
        }
      ]
    },
    {
      "cell_type": "markdown",
      "metadata": {
        "id": "fRFAUdLI0maw"
      },
      "source": [
        "# Если вы ничего здесь не понимаете, то вернитесь в конец первой домашки, там все объясняется"
      ]
    },
    {
      "cell_type": "code",
      "metadata": {
        "id": "PZ8-HECE0maw"
      },
      "source": [
        "model = torch.nn.Sequential(torch.nn.Linear(32, 16),\n",
        "                            torch.nn.ReLU(),\n",
        "                            torch.nn.Linear(16, 8),\n",
        "                            torch.nn.ReLU(),\n",
        "                            torch.nn.Linear(8, 3))\n",
        "\n",
        "criterion = torch.nn.CrossEntropyLoss()"
      ],
      "execution_count": null,
      "outputs": []
    },
    {
      "cell_type": "code",
      "metadata": {
        "id": "6N2OvMrl0maw",
        "colab": {
          "base_uri": "https://localhost:8080/"
        },
        "outputId": "52fd58de-a430-4518-b86d-1047b4b1fd54"
      },
      "source": [
        "with torch.no_grad():\n",
        "\n",
        "    prediction = model(x.float())\n",
        "\n",
        "    loss = criterion(prediction, y)\n",
        "    \n",
        "loss.item()"
      ],
      "execution_count": null,
      "outputs": [
        {
          "output_type": "execute_result",
          "data": {
            "text/plain": [
              "1.1333441734313965"
            ]
          },
          "metadata": {},
          "execution_count": 28
        }
      ]
    },
    {
      "cell_type": "markdown",
      "metadata": {
        "id": "cWiRzJwg0maw"
      },
      "source": [
        "# Боевые датасеты"
      ]
    },
    {
      "cell_type": "code",
      "metadata": {
        "id": "9R4KTKSs0maw"
      },
      "source": [
        "class CBOWDataset(Dataset):\n",
        "\n",
        "    def __init__(self,\n",
        "                 corpus,\n",
        "                 word2index,\n",
        "                 window=2,\n",
        "                 unk_token='UNK',\n",
        "                 pad_token='PAD',\n",
        "                 collect_verbose=True):\n",
        "\n",
        "        self.corpus = corpus\n",
        "        self.word2index = word2index\n",
        "        self.index2word = {value: key for key, value in self.word2index.items()}\n",
        "        self.window = window\n",
        "\n",
        "        self.unk_token = unk_token\n",
        "        self.unk_index = self.word2index[self.unk_token]\n",
        "\n",
        "        self.pad_token = pad_token\n",
        "        self.pad_index = len(self.word2index)\n",
        "\n",
        "        self.collect_verbose = collect_verbose\n",
        "\n",
        "        self.data = []\n",
        "\n",
        "        self.collect_data()\n",
        "\n",
        "    def __len__(self):\n",
        "\n",
        "        return len(self.data)\n",
        "\n",
        "    def _split_function(self, tokenized_text):\n",
        "\n",
        "        splits = []\n",
        "\n",
        "        for n in range(len(tokenized_text)):\n",
        "            left_context = tokenized_text[np.maximum(n - self.window, 0):n]\n",
        "            left_context = ([self.pad_index] * (self.window - len(left_context))) + left_context\n",
        "\n",
        "            central_word = tokenized_text[n]\n",
        "\n",
        "            right_context = tokenized_text[n + 1:n + self.window + 1]\n",
        "            right_context = right_context + ([self.pad_index] * (self.window - len(right_context)))\n",
        "\n",
        "            splits.append((left_context + right_context, central_word))\n",
        "\n",
        "        return splits\n",
        "\n",
        "    def indexing(self, tokenized_text):\n",
        "\n",
        "        return [self.word2index[token] if token in self.word2index else self.unk_index for token in tokenized_text]\n",
        "\n",
        "    def collect_data(self):\n",
        "\n",
        "        corpus = tqdm(self.corpus, disable=not self.collect_verbose)\n",
        "\n",
        "        for tokenized_text in corpus:\n",
        "            indexed_text = self.indexing(tokenized_text)\n",
        "            cbow_examples = self._split_function(indexed_text)\n",
        "\n",
        "            self.data.extend(cbow_examples)\n",
        "\n",
        "    def __getitem__(self, idx):\n",
        "\n",
        "        context, central_word = self.data[idx]\n",
        "\n",
        "        context = torch.Tensor(context).long()\n",
        "\n",
        "        return context, central_word"
      ],
      "execution_count": null,
      "outputs": []
    },
    {
      "cell_type": "code",
      "metadata": {
        "id": "1lWZJUMyytod"
      },
      "source": [
        ""
      ],
      "execution_count": null,
      "outputs": []
    },
    {
      "cell_type": "markdown",
      "metadata": {
        "id": "3za7fdbD0max"
      },
      "source": [
        "# Мы будем учить модель Skipgram\n",
        "Реализуйте читалку данных"
      ]
    },
    {
      "cell_type": "code",
      "metadata": {
        "id": "mwy2922_0max"
      },
      "source": [
        "class SkipgramDataset(Dataset):\n",
        "\n",
        "    def __init__(self,\n",
        "                 corpus,\n",
        "                 word2index,\n",
        "                 window=4,\n",
        "                 unk_token='UNK',\n",
        "                 collect_verbose=True):\n",
        "        self.corpus = corpus\n",
        "        self.word2index = word2index\n",
        "        self.index2word = {value: key for key, value in self.word2index.items()}\n",
        "        self.window = window\n",
        "\n",
        "        self.unk_token = unk_token\n",
        "        self.unk_index = self.word2index[self.unk_token]\n",
        "        \n",
        "\n",
        "        self.collect_verbose = collect_verbose\n",
        "\n",
        "        self.data = []\n",
        "\n",
        "        self.collect_data()\n",
        "\n",
        "    def __len__(self):\n",
        "\n",
        "        return len(self.data)\n",
        "\n",
        "    def _split_function(self, tokenized_text):\n",
        "      #CODE\n",
        "      splits = []\n",
        "\n",
        "      for i, center in enumerate(tokenized_text):\n",
        "        left = max(i-self.window, 0)\n",
        "        right = min(i+self.window+1, len(tokenized_text))\n",
        "        left_context = tokenized_text[left:i]\n",
        "        right_context = tokenized_text[i+1:right]\n",
        "        full_context = left_context + right_context\n",
        "        \n",
        "        for context in full_context:\n",
        "          splits.append((context, center))\n",
        "      \n",
        "      return splits\n",
        "\n",
        "    def indexing(self, tokenized_text):\n",
        "\n",
        "        return [self.word2index[token] if token in self.word2index else self.unk_index for token in tokenized_text]\n",
        "\n",
        "    def collect_data(self):\n",
        "\n",
        "        corpus = tqdm(self.corpus, disable=not self.collect_verbose)\n",
        "\n",
        "        for tokenized_text in corpus:\n",
        "            indexed_text = self.indexing(tokenized_text)\n",
        "            skipgram_examples = self._split_function(indexed_text)\n",
        "\n",
        "            self.data.extend(skipgram_examples)\n",
        "\n",
        "    def __getitem__(self, idx):\n",
        "        \n",
        "        # CODE\n",
        "        context, central_word = self.data[idx]\n",
        "\n",
        "        return context, central_word"
      ],
      "execution_count": 5,
      "outputs": []
    },
    {
      "cell_type": "code",
      "metadata": {
        "id": "7ZRHK0E20max"
      },
      "source": [
        "# можете положить SkipgramDataset в отдельный файлик, например word2vec_utils и относительным импортом достать его \n",
        "#from .word2vec_utils import SkipgramDataset"
      ],
      "execution_count": null,
      "outputs": []
    },
    {
      "cell_type": "code",
      "metadata": {
        "scrolled": true,
        "id": "_pbScf0Z0max",
        "colab": {
          "base_uri": "https://localhost:8080/"
        },
        "outputId": "d0ac5fbe-ef6b-4adf-f891-c742e7528ff9"
      },
      "source": [
        "dataset = SkipgramDataset(corpus, word2index)"
      ],
      "execution_count": 38,
      "outputs": [
        {
          "output_type": "stream",
          "name": "stderr",
          "text": [
            "100%|██████████| 100000/100000 [00:02<00:00, 34012.33it/s]\n"
          ]
        }
      ]
    },
    {
      "cell_type": "code",
      "metadata": {
        "id": "CPX6SLoq0max"
      },
      "source": [
        "BATCH_SIZE = 512"
      ],
      "execution_count": 39,
      "outputs": []
    },
    {
      "cell_type": "code",
      "metadata": {
        "id": "Vh6OTpK10may"
      },
      "source": [
        "dataset_loader = DataLoader(dataset, shuffle=True, batch_size=BATCH_SIZE)"
      ],
      "execution_count": 40,
      "outputs": []
    },
    {
      "cell_type": "code",
      "metadata": {
        "id": "LmOzWSUA0may"
      },
      "source": [
        "for x, y in dataset_loader:\n",
        "    break"
      ],
      "execution_count": 41,
      "outputs": []
    },
    {
      "cell_type": "code",
      "metadata": {
        "id": "3b5ma_Nd0may",
        "colab": {
          "base_uri": "https://localhost:8080/"
        },
        "outputId": "50c20af4-6e04-4ef5-a589-f60fdec985fc"
      },
      "source": [
        "x[:5]"
      ],
      "execution_count": 42,
      "outputs": [
        {
          "output_type": "execute_result",
          "data": {
            "text/plain": [
              "tensor([ 198, 1419,   32, 3350, 2198])"
            ]
          },
          "metadata": {},
          "execution_count": 42
        }
      ]
    },
    {
      "cell_type": "code",
      "metadata": {
        "id": "08oFkECW0may",
        "colab": {
          "base_uri": "https://localhost:8080/"
        },
        "outputId": "efb27f9a-e3c6-41c7-8002-953d009d3473"
      },
      "source": [
        "y[:5]"
      ],
      "execution_count": 43,
      "outputs": [
        {
          "output_type": "execute_result",
          "data": {
            "text/plain": [
              "tensor([ 531,  486,  413, 1557, 1564])"
            ]
          },
          "metadata": {},
          "execution_count": 43
        }
      ]
    },
    {
      "cell_type": "code",
      "metadata": {
        "id": "-zzb3EFi0may",
        "colab": {
          "base_uri": "https://localhost:8080/"
        },
        "outputId": "659227dd-70c8-42c4-e223-039db78daa47"
      },
      "source": [
        "x.shape, y.shape"
      ],
      "execution_count": 44,
      "outputs": [
        {
          "output_type": "execute_result",
          "data": {
            "text/plain": [
              "(torch.Size([512]), torch.Size([512]))"
            ]
          },
          "metadata": {},
          "execution_count": 44
        }
      ]
    },
    {
      "cell_type": "code",
      "metadata": {
        "id": "lzWw9hP70maz"
      },
      "source": [
        "class CBOW(torch.nn.Module):\n",
        "    \n",
        "    def __init__(self, vocab_size, embedding_dim, pad_index):\n",
        "        \n",
        "        super().__init__()\n",
        "        \n",
        "        if pad_index > 0:\n",
        "            vocab_size += 1\n",
        "        \n",
        "        self.in_embedding = torch.nn.Embedding(num_embeddings=vocab_size, \n",
        "                                               embedding_dim=embedding_dim,\n",
        "                                               padding_idx=pad_index)\n",
        "        \n",
        "        self.out_embedding = torch.nn.Linear(in_features=embedding_dim,\n",
        "                                             out_features=vocab_size, bias=False)\n",
        "        \n",
        "    def forward(self, x):\n",
        "        \n",
        "        x = self.in_embedding(x).sum(dim=-2)\n",
        "        x = self.out_embedding(x)\n",
        "        \n",
        "        return x"
      ],
      "execution_count": null,
      "outputs": []
    },
    {
      "cell_type": "markdown",
      "metadata": {
        "id": "cahYp5fU0maz"
      },
      "source": [
        "# Мы будем учить модель Skipgram\n",
        "Реализуйте ее"
      ]
    },
    {
      "cell_type": "code",
      "metadata": {
        "id": "cYIcHcHl0maz"
      },
      "source": [
        "# CODE\n",
        "class SkipGram(torch.nn.Module):\n",
        "\n",
        "  def __init__(self, vocab_size, embedding_dim):\n",
        "    \n",
        "    super().__init__()\n",
        "    \n",
        "    self.in_embedding = torch.nn.Embedding(num_embeddings=vocab_size, \n",
        "                                               embedding_dim=embedding_dim)\n",
        "    \n",
        "    self.out_embedding = torch.nn.Linear(in_features=embedding_dim,\n",
        "                                             out_features=vocab_size, bias=False)\n",
        "  def forward(self,x):\n",
        "    x = self.in_embedding(x)\n",
        "    x = self.out_embedding(x)\n",
        "\n",
        "    return x"
      ],
      "execution_count": 15,
      "outputs": []
    },
    {
      "cell_type": "code",
      "metadata": {
        "id": "wU5YsJuO0ma0"
      },
      "source": [
        "#from word2vec_utils import SkipGram"
      ],
      "execution_count": null,
      "outputs": []
    },
    {
      "cell_type": "code",
      "metadata": {
        "id": "Mv3Tbuz30ma0"
      },
      "source": [
        "# размерность эмбеддинга\n",
        "# маленькая, чтобы мы могли недолго поучить ворд2век и увидеть результаты\n",
        "EMBEDDING_DIM = 20"
      ],
      "execution_count": 34,
      "outputs": []
    },
    {
      "cell_type": "code",
      "metadata": {
        "id": "jOGmPpyT0ma0"
      },
      "source": [
        "model = SkipGram(vocab_size=len(word2index), embedding_dim=EMBEDDING_DIM)"
      ],
      "execution_count": 49,
      "outputs": []
    },
    {
      "cell_type": "code",
      "metadata": {
        "id": "JQ3KLAep0ma0",
        "colab": {
          "base_uri": "https://localhost:8080/"
        },
        "outputId": "a5c3b017-f85d-44b0-9eea-2f891c1c7724"
      },
      "source": [
        "with torch.no_grad():\n",
        "    pred = model(x)\n",
        "\n",
        "pred.shape"
      ],
      "execution_count": 46,
      "outputs": [
        {
          "output_type": "execute_result",
          "data": {
            "text/plain": [
              "torch.Size([512, 13076])"
            ]
          },
          "metadata": {},
          "execution_count": 46
        }
      ]
    },
    {
      "cell_type": "code",
      "metadata": {
        "id": "ezx3EsGp0ma0"
      },
      "source": [
        "optimizer = torch.optim.Adam(params=model.parameters(), lr=0.0001)\n",
        "\n",
        "# aka loss function\n",
        "criterion = torch.nn.CrossEntropyLoss()"
      ],
      "execution_count": 47,
      "outputs": []
    },
    {
      "cell_type": "markdown",
      "metadata": {
        "id": "N6rw6Diz0ma1"
      },
      "source": [
        "# Допишите обучалку"
      ]
    },
    {
      "cell_type": "code",
      "metadata": {
        "id": "yR13Zs0d0ma1"
      },
      "source": [
        "def train_model(model=model,\n",
        "                epochs=3,\n",
        "                optimizer=optimizer,\n",
        "                dataset_loader=dataset_loader):\n",
        "  \n",
        "  criterion = torch.nn.CrossEntropyLoss()\n",
        "  losses = []\n",
        "\n",
        "  for n_epoch in range(epochs):\n",
        "    try:\n",
        "      progress_bar = tqdm(total=len(dataset_loader.dataset), desc='Epoch {}'.format(n_epoch + 1))\n",
        "      \n",
        "      for x, y in dataset_loader:\n",
        "        # CODE\n",
        "        pred = model(x)\n",
        "        loss = criterion(pred, y)\n",
        "        loss.backward()\n",
        "        optimizer.step()\n",
        "        losses.append(loss.item())\n",
        "        progress_bar.set_postfix(loss=np.mean(losses[-100:]))\n",
        "        progress_bar.update(x.shape[0])\n",
        "      progress_bar.close()\n",
        "    except KeyboardInterrupt:\n",
        "      progress_bar.close()\n",
        "      break\n",
        "    \n",
        "  return losses"
      ],
      "execution_count": 33,
      "outputs": []
    },
    {
      "cell_type": "code",
      "metadata": {
        "colab": {
          "base_uri": "https://localhost:8080/"
        },
        "id": "aOdw3_9q0uNS",
        "outputId": "985a98cb-439f-4b0b-967e-3bda43c42add"
      },
      "source": [
        "losses = train_model()"
      ],
      "execution_count": 22,
      "outputs": [
        {
          "output_type": "stream",
          "name": "stderr",
          "text": [
            "Epoch 1: 100%|██████████| 5166680/5166680 [14:05<00:00, 6108.22it/s, loss=7.49]\n",
            "Epoch 2: 100%|██████████| 5166680/5166680 [14:01<00:00, 6137.21it/s, loss=7.24]\n",
            "Epoch 3: 100%|██████████| 5166680/5166680 [15:23<00:00, 5592.31it/s, loss=7.21]\n"
          ]
        }
      ]
    },
    {
      "cell_type": "code",
      "metadata": {
        "id": "likHd3yr0ma1",
        "colab": {
          "base_uri": "https://localhost:8080/",
          "height": 312
        },
        "outputId": "fdddb3d2-4a5b-4d98-87f1-fd783d851d87"
      },
      "source": [
        "plt.title('SkipGram Training Process')\n",
        "plt.xlabel('Itearations')\n",
        "plt.ylabel('Loss')\n",
        "plt.grid()\n",
        "plt.plot(losses)"
      ],
      "execution_count": 23,
      "outputs": [
        {
          "output_type": "execute_result",
          "data": {
            "text/plain": [
              "[<matplotlib.lines.Line2D at 0x7fa98cdba410>]"
            ]
          },
          "metadata": {},
          "execution_count": 23
        },
        {
          "output_type": "display_data",
          "data": {
            "image/png": "[encoded data removed]",
            "text/plain": [
              "<Figure size 432x288 with 1 Axes>"
            ]
          },
          "metadata": {
            "needs_background": "light"
          }
        }
      ]
    },
    {
      "cell_type": "code",
      "metadata": {
        "id": "mpd-ZYdy0ma1"
      },
      "source": [
        "# проверка, что хоть что-то выучилось\n",
        "assert np.mean(losses[-1000:]) < 7.5"
      ],
      "execution_count": 24,
      "outputs": []
    },
    {
      "cell_type": "code",
      "metadata": {
        "id": "pX83FYoF0ma1"
      },
      "source": [
        "embedding_matrix = model.in_embedding.weight.detach()"
      ],
      "execution_count": 25,
      "outputs": []
    },
    {
      "cell_type": "code",
      "metadata": {
        "id": "_PA17gQt0ma1"
      },
      "source": [
        "def cos_sim(embedding_matrix, token2id, word1, word2):\n",
        "    \n",
        "    i1 = token2id[word1]\n",
        "    i2 = token2id[word2]\n",
        "    \n",
        "    v1, v2 = embedding_matrix[i1], embedding_matrix[i2]\n",
        "    \n",
        "    v1_n = v1.div(v1.norm(keepdim=True))\n",
        "    v2_n = v2.div(v2.norm(keepdim=True))\n",
        "    \n",
        "    similarity = torch.dot(v1_n, v2_n).item()\n",
        "    \n",
        "    return similarity"
      ],
      "execution_count": 27,
      "outputs": []
    },
    {
      "cell_type": "markdown",
      "metadata": {
        "id": "uVvnpNXL0ma2"
      },
      "source": [
        "# Косинусная близость\n",
        "От 0 до 1, где 0 - вектора абсолютно разные, где 1 - идентичные."
      ]
    },
    {
      "cell_type": "code",
      "metadata": {
        "id": "7Owy2mP00ma2",
        "colab": {
          "base_uri": "https://localhost:8080/"
        },
        "outputId": "4bbcdf39-86b6-48c8-df69-29f549c414b7"
      },
      "source": [
        "cos_sim(embedding_matrix, word2index, 'день', 'месяц')"
      ],
      "execution_count": 27,
      "outputs": [
        {
          "output_type": "execute_result",
          "data": {
            "text/plain": [
              "0.7578384876251221"
            ]
          },
          "metadata": {},
          "execution_count": 27
        }
      ]
    },
    {
      "cell_type": "code",
      "metadata": {
        "id": "ELktlX1o0ma2",
        "colab": {
          "base_uri": "https://localhost:8080/"
        },
        "outputId": "ee0cc65e-0875-4b1a-a6e6-5609d49ceca0"
      },
      "source": [
        "cos_sim(embedding_matrix, word2index, 'минута', 'месяц')"
      ],
      "execution_count": 28,
      "outputs": [
        {
          "output_type": "execute_result",
          "data": {
            "text/plain": [
              "0.61942058801651"
            ]
          },
          "metadata": {},
          "execution_count": 28
        }
      ]
    },
    {
      "cell_type": "code",
      "metadata": {
        "id": "FlnGqg3A0ma2",
        "colab": {
          "base_uri": "https://localhost:8080/"
        },
        "outputId": "09724f2e-e65b-4f16-b886-a4af19d6839e"
      },
      "source": [
        "cos_sim(embedding_matrix, word2index, 'сотрудник', 'сотрудница')"
      ],
      "execution_count": 29,
      "outputs": [
        {
          "output_type": "execute_result",
          "data": {
            "text/plain": [
              "0.8436672687530518"
            ]
          },
          "metadata": {},
          "execution_count": 29
        }
      ]
    },
    {
      "cell_type": "code",
      "metadata": {
        "id": "qNyhVxff0ma2",
        "colab": {
          "base_uri": "https://localhost:8080/"
        },
        "outputId": "c804c15e-a4e9-475d-a15d-716a15cbe82f"
      },
      "source": [
        "cos_sim(embedding_matrix, word2index, 'вклад', 'перевод')"
      ],
      "execution_count": 30,
      "outputs": [
        {
          "output_type": "execute_result",
          "data": {
            "text/plain": [
              "0.5593034029006958"
            ]
          },
          "metadata": {},
          "execution_count": 30
        }
      ]
    },
    {
      "cell_type": "code",
      "metadata": {
        "id": "mn2cg4FM0ma2",
        "colab": {
          "base_uri": "https://localhost:8080/",
          "height": 37
        },
        "outputId": "e72982e2-6306-472e-9258-1c42f7dd5505"
      },
      "source": [
        "random_word = random.choice(list(word2index.keys()))\n",
        "sim = cos_sim(embedding_matrix, word2index, 'день', random_word)\n",
        "'Косинусная близость слова \"день\" к случайному выбраному слову \"{}\" равна {:.3f}'.format(random_word, sim)"
      ],
      "execution_count": 31,
      "outputs": [
        {
          "output_type": "execute_result",
          "data": {
            "application/vnd.google.colaboratory.intrinsic+json": {
              "type": "string"
            },
            "text/plain": [
              "'Косинусная близость слова \"день\" к случайному выбраному слову \"разозлить\" равна 0.166'"
            ]
          },
          "metadata": {},
          "execution_count": 31
        }
      ]
    },
    {
      "cell_type": "code",
      "metadata": {
        "id": "ovcKn03L0ma3"
      },
      "source": [
        "freq = {}\n",
        "\n",
        "for text in corpus:\n",
        "    for token in text:\n",
        "        if token in freq:\n",
        "            freq[token] += 1\n",
        "        else:\n",
        "            freq[token] = 1"
      ],
      "execution_count": 32,
      "outputs": []
    },
    {
      "cell_type": "code",
      "metadata": {
        "id": "xxE72VxD0ma3"
      },
      "source": [
        "sorted_freq = [(k, freq[k]) for k in sorted(freq, key=freq.get, reverse=True)]\n",
        "top_sorted_freq = sorted_freq[0:200]"
      ],
      "execution_count": 33,
      "outputs": []
    },
    {
      "cell_type": "code",
      "metadata": {
        "id": "f8mmHYAO0ma3",
        "colab": {
          "base_uri": "https://localhost:8080/"
        },
        "outputId": "d97d9cc1-c970-4c01-b49f-d26832dbf499"
      },
      "source": [
        "tsne = TSNE(n_components=2, init='pca', random_state=42, verbose=2)\n",
        "reduced = tsne.fit_transform(embedding_matrix)"
      ],
      "execution_count": 34,
      "outputs": [
        {
          "output_type": "stream",
          "name": "stdout",
          "text": [
            "[t-SNE] Computing 91 nearest neighbors...\n",
            "[t-SNE] Indexed 13076 samples in 0.038s...\n",
            "[t-SNE] Computed neighbors for 13076 samples in 8.523s...\n",
            "[t-SNE] Computed conditional probabilities for sample 1000 / 13076\n",
            "[t-SNE] Computed conditional probabilities for sample 2000 / 13076\n",
            "[t-SNE] Computed conditional probabilities for sample 3000 / 13076\n",
            "[t-SNE] Computed conditional probabilities for sample 4000 / 13076\n",
            "[t-SNE] Computed conditional probabilities for sample 5000 / 13076\n",
            "[t-SNE] Computed conditional probabilities for sample 6000 / 13076\n",
            "[t-SNE] Computed conditional probabilities for sample 7000 / 13076\n",
            "[t-SNE] Computed conditional probabilities for sample 8000 / 13076\n",
            "[t-SNE] Computed conditional probabilities for sample 9000 / 13076\n",
            "[t-SNE] Computed conditional probabilities for sample 10000 / 13076\n",
            "[t-SNE] Computed conditional probabilities for sample 11000 / 13076\n",
            "[t-SNE] Computed conditional probabilities for sample 12000 / 13076\n",
            "[t-SNE] Computed conditional probabilities for sample 13000 / 13076\n",
            "[t-SNE] Computed conditional probabilities for sample 13076 / 13076\n",
            "[t-SNE] Mean sigma: 0.989990\n",
            "[t-SNE] Computed conditional probabilities in 0.695s\n",
            "[t-SNE] Iteration 50: error = 94.8702850, gradient norm = 0.0011834 (50 iterations in 21.041s)\n",
            "[t-SNE] Iteration 100: error = 94.9750748, gradient norm = 0.0000032 (50 iterations in 11.122s)\n",
            "[t-SNE] Iteration 150: error = 94.9750061, gradient norm = 0.0000028 (50 iterations in 5.043s)\n",
            "[t-SNE] Iteration 200: error = 94.9750214, gradient norm = 0.0000028 (50 iterations in 5.204s)\n",
            "[t-SNE] Iteration 250: error = 94.9750061, gradient norm = 0.0000026 (50 iterations in 5.053s)\n",
            "[t-SNE] KL divergence after 250 iterations with early exaggeration: 94.975006\n",
            "[t-SNE] Iteration 300: error = 4.5521040, gradient norm = 0.0007397 (50 iterations in 6.361s)\n",
            "[t-SNE] Iteration 350: error = 3.8974242, gradient norm = 0.0006599 (50 iterations in 9.813s)\n",
            "[t-SNE] Iteration 400: error = 3.7366953, gradient norm = 0.0003457 (50 iterations in 7.193s)\n",
            "[t-SNE] Iteration 450: error = 3.6433821, gradient norm = 0.0002306 (50 iterations in 6.966s)\n",
            "[t-SNE] Iteration 500: error = 3.5795398, gradient norm = 0.0001713 (50 iterations in 6.940s)\n",
            "[t-SNE] Iteration 550: error = 3.5318131, gradient norm = 0.0001349 (50 iterations in 6.877s)\n",
            "[t-SNE] Iteration 600: error = 3.4941733, gradient norm = 0.0001069 (50 iterations in 7.080s)\n",
            "[t-SNE] Iteration 650: error = 3.4634075, gradient norm = 0.0000927 (50 iterations in 7.155s)\n",
            "[t-SNE] Iteration 700: error = 3.4378996, gradient norm = 0.0000787 (50 iterations in 7.007s)\n",
            "[t-SNE] Iteration 750: error = 3.4163499, gradient norm = 0.0000726 (50 iterations in 7.068s)\n",
            "[t-SNE] Iteration 800: error = 3.3983226, gradient norm = 0.0000610 (50 iterations in 7.187s)\n",
            "[t-SNE] Iteration 850: error = 3.3828840, gradient norm = 0.0000540 (50 iterations in 7.099s)\n",
            "[t-SNE] Iteration 900: error = 3.3694987, gradient norm = 0.0000488 (50 iterations in 7.088s)\n",
            "[t-SNE] Iteration 950: error = 3.3578360, gradient norm = 0.0000452 (50 iterations in 7.128s)\n",
            "[t-SNE] Iteration 1000: error = 3.3476562, gradient norm = 0.0000502 (50 iterations in 7.217s)\n",
            "[t-SNE] KL divergence after 1000 iterations: 3.347656\n"
          ]
        }
      ]
    },
    {
      "cell_type": "code",
      "metadata": {
        "id": "BKYpbLui0ma4"
      },
      "source": [
        "top_words = [a for a,_ in top_sorted_freq]"
      ],
      "execution_count": 35,
      "outputs": []
    },
    {
      "cell_type": "code",
      "metadata": {
        "id": "89R6A9Yz0ma4"
      },
      "source": [
        "inds = [word2index[word] for word in top_words]\n",
        "x_coords = [coords[0] for coords in reduced[inds]]\n",
        "y_coords = [coords[1] for coords in reduced[inds]]"
      ],
      "execution_count": 36,
      "outputs": []
    },
    {
      "cell_type": "code",
      "metadata": {
        "id": "V0qhcsPl0ma4",
        "colab": {
          "base_uri": "https://localhost:8080/",
          "height": 265
        },
        "outputId": "030fd476-3f61-4800-d4ff-5771f79ad7ec"
      },
      "source": [
        "for (x, y, word) in zip(x_coords, y_coords, top_words):\n",
        "    plt.scatter(x, y, marker='.', color='blue')\n",
        "    plt.text(x+0.01, y+0.01, word, fontsize=9)\n",
        "plt.show()"
      ],
      "execution_count": 37,
      "outputs": [
        {
          "output_type": "display_data",
          "data": {
            "image/png": "[encoded data removed]",
            "text/plain": [
              "<Figure size 432x288 with 1 Axes>"
            ]
          },
          "metadata": {
            "needs_background": "light"
          }
        }
      ]
    },
    {
      "cell_type": "markdown",
      "metadata": {
        "id": "CW66TsOsJruB"
      },
      "source": [
        "# Оценка качества эмбеддингов"
      ]
    },
    {
      "cell_type": "code",
      "metadata": {
        "id": "X_uLu71oJvTE"
      },
      "source": [
        "import pandas as pd\n",
        "\n",
        "evaluation_df = pd.read_csv('ru_simlex965_tagged.tsv', delimiter='\\t')"
      ],
      "execution_count": 7,
      "outputs": []
    },
    {
      "cell_type": "code",
      "metadata": {
        "id": "eCOz_ZbiLtO9"
      },
      "source": [
        "evaluation_df['# Word1'] = evaluation_df.apply(lambda row: row['# Word1'].split('_')[0],axis=1)\n",
        "evaluation_df['Word2'] = evaluation_df.apply(lambda row: row['Word2'].split('_')[0],axis=1)"
      ],
      "execution_count": 8,
      "outputs": []
    },
    {
      "cell_type": "code",
      "metadata": {
        "id": "OEkfrMpVyR-V"
      },
      "source": [
        "evaluation_df['Average Score']=((evaluation_df['Average Score']-evaluation_df['Average Score'].min())/(evaluation_df['Average Score'].max()-evaluation_df['Average Score'].min()))*1"
      ],
      "execution_count": 9,
      "outputs": []
    },
    {
      "cell_type": "code",
      "metadata": {
        "id": "6OPBQ8cs3qPX"
      },
      "source": [
        "def get_scores(word1_column='# Word1',\n",
        "               word2_column='Word2',\n",
        "               df=evaluation_df,\n",
        "               embedding_matrix=embedding_matrix,\n",
        "               word2index=word2index):\n",
        "  sim_scores = []\n",
        "  words = list(word2index.keys())\n",
        "  for i in range(0, len(df)):\n",
        "    if df[word1_column][i] in words and df[word2_column][i] in words:\n",
        "      sim_score = cos_sim(embedding_matrix, word2index, \n",
        "                          df[word1_column][i],df[word2_column][i])\n",
        "      sim_scores.append(sim_score)\n",
        "    else:\n",
        "      # Многих слов из тестового датасета просто нет в модели\n",
        "      sim_scores.append(None)\n",
        "\n",
        "  return np.array(sim_scores)\n",
        "\n",
        "\n",
        "def get_mse(y_pred, y_true):\n",
        "  difference_array = np.subtract(y_pred, y_true)\n",
        "  squared_array = np.square(difference_array)\n",
        "  mse = squared_array.mean()\n",
        "\n",
        "  return mse"
      ],
      "execution_count": 25,
      "outputs": []
    },
    {
      "cell_type": "code",
      "metadata": {
        "id": "A8zhG5Px7x9s"
      },
      "source": [
        "y_true = np.array(evaluation_df['Average Score'].tolist())\n",
        "y_pred = get_scores()"
      ],
      "execution_count": 43,
      "outputs": []
    },
    {
      "cell_type": "code",
      "metadata": {
        "id": "N-CQKBgpOGOt"
      },
      "source": [
        "none_indexes = np.where(y_pred == None)[0]"
      ],
      "execution_count": 44,
      "outputs": []
    },
    {
      "cell_type": "markdown",
      "metadata": {
        "id": "B-rnayBF5qZw"
      },
      "source": [
        "Оставим только скоры слов, которые есть в предсказанных"
      ]
    },
    {
      "cell_type": "code",
      "metadata": {
        "id": "rC13doj-OK_I"
      },
      "source": [
        "y_true = np.delete(y_true, none_indexes)\n",
        "y_pred = np.delete(y_pred, none_indexes)"
      ],
      "execution_count": 45,
      "outputs": []
    },
    {
      "cell_type": "code",
      "metadata": {
        "colab": {
          "base_uri": "https://localhost:8080/"
        },
        "id": "LwnVgmOyIJUL",
        "outputId": "593d49a1-ed7f-48c6-c7cc-ef33c3eb6536"
      },
      "source": [
        "mse = get_mse(y_pred, y_true)\n",
        "mse"
      ],
      "execution_count": 46,
      "outputs": [
        {
          "output_type": "execute_result",
          "data": {
            "text/plain": [
              "0.1279378151458604"
            ]
          },
          "metadata": {},
          "execution_count": 46
        }
      ]
    },
    {
      "cell_type": "code",
      "metadata": {
        "colab": {
          "base_uri": "https://localhost:8080/"
        },
        "id": "0V8XqNm_VcPU",
        "outputId": "d770a0cd-aa66-464d-f61b-49aa42bf68e5"
      },
      "source": [
        "rmse = np.sqrt(mse)\n",
        "rmse"
      ],
      "execution_count": 47,
      "outputs": [
        {
          "output_type": "execute_result",
          "data": {
            "text/plain": [
              "0.3576839598666124"
            ]
          },
          "metadata": {},
          "execution_count": 47
        }
      ]
    },
    {
      "cell_type": "markdown",
      "metadata": {
        "id": "EBAATySB1cSV"
      },
      "source": [
        "# Эксперименты\n",
        "\n",
        "Я уменьшил порог удаления редких слов до 5, увеличил размер корпуса до 150 000. Воспользовался MyStem3 вместо PyMorphy2 для лемматизации (вроде MyStem лучше лемметизирует + его начальная форма глаголов больше похожа на ту которая в таблице с которой сравниваем).\n",
        "\n",
        "Файл нового корпуса и измененная тетрадка с препроцом лежат в репозитории с домашкой."
      ]
    },
    {
      "cell_type": "code",
      "metadata": {
        "id": "zyudfr8yBbFy"
      },
      "source": [
        "with open('new_processed_corpus.json') as f:\n",
        "    corpus = json.load(f)"
      ],
      "execution_count": 11,
      "outputs": []
    },
    {
      "cell_type": "code",
      "metadata": {
        "id": "K1a5cmmgT_Ii"
      },
      "source": [
        "word2index = get_word2index('new_processed_corpus.json')"
      ],
      "execution_count": 12,
      "outputs": []
    },
    {
      "cell_type": "code",
      "metadata": {
        "id": "wkY-IJwN8Xgr",
        "colab": {
          "base_uri": "https://localhost:8080/"
        },
        "outputId": "b664e7e0-4b6a-47f9-8167-8d59252ea948"
      },
      "source": [
        "dataset_2 = SkipgramDataset(corpus, word2index)\n",
        "BATCH_SIZE = 512\n",
        "dataset_loader_2 = DataLoader(dataset_2, shuffle=True, batch_size=BATCH_SIZE)\n",
        "for x, y in dataset_loader:\n",
        "    break\n",
        "x.shape, y.shape"
      ],
      "execution_count": 13,
      "outputs": [
        {
          "output_type": "stream",
          "name": "stderr",
          "text": [
            "100%|██████████| 150000/150000 [00:04<00:00, 35133.50it/s]\n"
          ]
        },
        {
          "output_type": "execute_result",
          "data": {
            "text/plain": [
              "(torch.Size([512]), torch.Size([512]))"
            ]
          },
          "metadata": {},
          "execution_count": 13
        }
      ]
    },
    {
      "cell_type": "code",
      "metadata": {
        "id": "G8K_gtPwaoN8"
      },
      "source": [
        "EMBEDDING_DIM = 20"
      ],
      "execution_count": 18,
      "outputs": []
    },
    {
      "cell_type": "code",
      "metadata": {
        "id": "qbPDKIky7m02",
        "colab": {
          "base_uri": "https://localhost:8080/"
        },
        "outputId": "8b17f940-128c-43b4-a4a4-e4b96916246b"
      },
      "source": [
        "model_2 = SkipGram(vocab_size=len(word2index), embedding_dim=EMBEDDING_DIM)\n",
        "with torch.no_grad():\n",
        "    pred = model_2(x)\n",
        "\n",
        "pred.shape"
      ],
      "execution_count": 20,
      "outputs": [
        {
          "output_type": "execute_result",
          "data": {
            "text/plain": [
              "torch.Size([512, 18763])"
            ]
          },
          "metadata": {},
          "execution_count": 20
        }
      ]
    },
    {
      "cell_type": "code",
      "metadata": {
        "id": "aD4gyBOtYfsf"
      },
      "source": [
        "optimizer = torch.optim.Adam(params=model_2.parameters(), lr=0.0001)\n",
        "\n",
        "# aka loss function\n",
        "criterion = torch.nn.CrossEntropyLoss()"
      ],
      "execution_count": 21,
      "outputs": []
    },
    {
      "cell_type": "code",
      "metadata": {
        "colab": {
          "base_uri": "https://localhost:8080/"
        },
        "id": "MPBZiYnvW99L",
        "outputId": "9f5cb08c-5063-4fea-be50-7e690489d004"
      },
      "source": [
        "losses = train_model(model=model_2, epochs=3)"
      ],
      "execution_count": 23,
      "outputs": [
        {
          "output_type": "stream",
          "name": "stderr",
          "text": [
            "Epoch 1: 100%|██████████| 7759964/7759964 [28:40<00:00, 4509.64it/s, loss=7.44]\n",
            "Epoch 2: 100%|██████████| 7759964/7759964 [35:14<00:00, 3670.13it/s, loss=7.33]\n",
            "Epoch 3: 100%|██████████| 7759964/7759964 [35:58<00:00, 3594.24it/s, loss=7.32]\n"
          ]
        }
      ]
    },
    {
      "cell_type": "code",
      "metadata": {
        "id": "u65BF9CZbKlt"
      },
      "source": [
        "embedding_matrix = model.in_embedding.weight.detach()"
      ],
      "execution_count": 24,
      "outputs": []
    },
    {
      "cell_type": "code",
      "metadata": {
        "id": "NTWfrA7-xsW2"
      },
      "source": [
        "y_true = np.array(evaluation_df['Average Score'].tolist())\n",
        "y_pred = get_scores()"
      ],
      "execution_count": 50,
      "outputs": []
    },
    {
      "cell_type": "code",
      "metadata": {
        "id": "oRrjHN3CxvMN"
      },
      "source": [
        "none_indexes = np.where(y_pred == None)[0]"
      ],
      "execution_count": 29,
      "outputs": []
    },
    {
      "cell_type": "code",
      "metadata": {
        "id": "c9jyubIZxyDK"
      },
      "source": [
        "y_true = np.delete(y_true, none_indexes)\n",
        "y_pred = np.delete(y_pred, none_indexes)"
      ],
      "execution_count": 30,
      "outputs": []
    },
    {
      "cell_type": "code",
      "metadata": {
        "colab": {
          "base_uri": "https://localhost:8080/"
        },
        "id": "OC_zvG8Kx04V",
        "outputId": "e121fb7d-c419-45c2-b5d8-15b45f6e3bde"
      },
      "source": [
        "mse = get_mse(y_pred, y_true)\n",
        "mse"
      ],
      "execution_count": 31,
      "outputs": [
        {
          "output_type": "execute_result",
          "data": {
            "text/plain": [
              "0.11626969208357466"
            ]
          },
          "metadata": {},
          "execution_count": 31
        }
      ]
    },
    {
      "cell_type": "code",
      "metadata": {
        "colab": {
          "base_uri": "https://localhost:8080/"
        },
        "id": "3JiGgyo-x2WT",
        "outputId": "f4cf4cf3-3290-49d2-ab4b-4744bc077cc3"
      },
      "source": [
        "rmse = np.sqrt(mse)\n",
        "rmse"
      ],
      "execution_count": 32,
      "outputs": [
        {
          "output_type": "execute_result",
          "data": {
            "text/plain": [
              "0.34098341907426327"
            ]
          },
          "metadata": {},
          "execution_count": 32
        }
      ]
    },
    {
      "cell_type": "markdown",
      "metadata": {
        "id": "vc8JgebA3Jhv"
      },
      "source": [
        "В целом, стало чуть-чуть лучше. Кажется даже, что в-первую очередь на это повлияло увеличения размера корпуса (так как часто получалось и продолжает получаться, что некоторых слов из таблицы с которой сравниваем, просто нет в модели). \n",
        "\n",
        "Если говорить про понижение threshold'а, то кажется не стоило понижать его до 5, а надо было до 10 (5 кажется слишком мало и мб это еще наряду с увеличением корпуса сильно повысило время обучения)."
      ]
    },
    {
      "cell_type": "markdown",
      "metadata": {
        "collapsed": false,
        "id": "suCy0eFd0ma5"
      },
      "source": [
        "# Оценка\n",
        "1. Вы добрались сюда и все работает, значит уже получили 7 баллов.\n",
        "2. 8 баллов - Взяли корпус для оценка качества эмбеддингов [здесь](https://rusvectores.org/static/testsets/ru_simlex965_tagged.tsv). Описание к нему [здесь](https://arxiv.org/pdf/1801.06407.pdf). Его английская версия для понимания, того что же это такое [тут](https://fh295.github.io/simlex.html). Если в кратце - он похож а гугл аналогии, просто иначе составлен. Определили качество своих эмбеддингов. Как качество измерить? Можете все значения отнормировать (привести к 1) и затем считать MSE между тем что у вас и что в оригинале.\n",
        "3. 9 баллов - Поставили эксперименты, поменяли любые параметры, хоть корпус увеличили или как то почистили. Показали метрики до и после. После должно быть лучше, иначе это все еще 8 баллов.\n",
        "4. 10 баллов - удивили своим подходом (или просто удивили) пока делили на 9 баллов"
      ]
    },
    {
      "cell_type": "code",
      "metadata": {
        "pycharm": {
          "name": "#%%\n"
        },
        "id": "Ir_hAxYr0ma5"
      },
      "source": [
        ""
      ],
      "execution_count": null,
      "outputs": []
    }
  ]
}