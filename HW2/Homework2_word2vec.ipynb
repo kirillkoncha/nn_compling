{
  "nbformat": 4,
  "nbformat_minor": 0,
  "metadata": {
    "colab": {
      "name": "Homework2_word2vec.ipynb",
      "provenance": [],
      "collapsed_sections": [
        "sr240ImA0mam",
        "hActhA9H0map",
        "suCy0eFd0ma5"
      ]
    },
    "kernelspec": {
      "display_name": "Python 3",
      "language": "python",
      "name": "python3"
    },
    "language_info": {
      "codemirror_mode": {
        "name": "ipython",
        "version": 3
      },
      "file_extension": ".py",
      "mimetype": "text/x-python",
      "name": "python",
      "nbconvert_exporter": "python",
      "pygments_lexer": "ipython3",
      "version": "3.6.8"
    }
  },
  "cells": [
    {
      "cell_type": "code",
      "metadata": {
        "id": "PhwTqu270mad"
      },
      "source": [
        "import json\n",
        "import random\n",
        "from tqdm import tqdm\n",
        "import numpy as np\n",
        "\n",
        "from matplotlib import pyplot as plt\n",
        "from sklearn.decomposition import TruncatedSVD\n",
        "from sklearn.manifold import TSNE\n",
        "\n",
        "import torch\n",
        "\n",
        "from pylab import rcParams\n",
        "rcParams['figure.figsize'] = 15, 15"
      ],
      "execution_count": 1,
      "outputs": []
    },
    {
      "cell_type": "markdown",
      "metadata": {
        "id": "2AZZHHAV0maf"
      },
      "source": [
        "# Что делать?\n",
        "Где есть пометка # CODE писать код\n",
        "\n",
        "[Полезный туториал](http://jalammar.github.io/illustrated-word2vec/)"
      ]
    },
    {
      "cell_type": "markdown",
      "metadata": {
        "id": "JsVHrjHw0mag"
      },
      "source": [
        "# Загружаем данные\n",
        "Они уже обработанные и токенизированные. Процесс можно посмотреть в тетрадке 1.1 Processing corpus"
      ]
    },
    {
      "cell_type": "code",
      "metadata": {
        "id": "fff7WB0E0mag"
      },
      "source": [
        "with open('processed_corpus.json') as f:\n",
        "    corpus = json.load(f)"
      ],
      "execution_count": 39,
      "outputs": []
    },
    {
      "cell_type": "code",
      "metadata": {
        "colab": {
          "base_uri": "https://localhost:8080/"
        },
        "id": "V56JwQot0mah",
        "outputId": "eacbbd20-bda4-4e35-9b41-86adec743e40"
      },
      "source": [
        "len(corpus)"
      ],
      "execution_count": null,
      "outputs": [
        {
          "data": {
            "text/plain": [
              "100000"
            ]
          },
          "execution_count": 4,
          "metadata": {},
          "output_type": "execute_result"
        }
      ]
    },
    {
      "cell_type": "code",
      "metadata": {
        "colab": {
          "base_uri": "https://localhost:8080/"
        },
        "id": "igNVaXCR0mah",
        "outputId": "f9b547da-62fe-4aca-a5ce-f7ebae3cc16f"
      },
      "source": [
        "for text in corpus[:5]:\n",
        "    print(' '.join(text))"
      ],
      "execution_count": null,
      "outputs": [
        {
          "name": "stdout",
          "output_type": "stream",
          "text": [
            "второй UNK год окончательно разочаровать решить податься альфабанк\n",
            "вернуть денежный средство лицевой счёт либо зачесть счёт погашение кредит\n",
            "притом ситуация решиться участие течение сутки заявить\n",
            "мой ##число летний жизнь это самый неповоротливый работник банк который видеть\n",
            "везде написать вклад принимать очередь это\n"
          ]
        }
      ]
    },
    {
      "cell_type": "markdown",
      "metadata": {
        "id": "MjqqHUfu0mai"
      },
      "source": [
        "# CBOW"
      ]
    },
    {
      "cell_type": "code",
      "metadata": {
        "id": "CDu4QWqf0mai"
      },
      "source": [
        "sample_text = corpus[0]"
      ],
      "execution_count": null,
      "outputs": []
    },
    {
      "cell_type": "code",
      "metadata": {
        "colab": {
          "base_uri": "https://localhost:8080/",
          "height": 37
        },
        "id": "2q4AKfwP0maj",
        "outputId": "9377e1e1-f133-4d83-a7c1-eda7ed13fa64"
      },
      "source": [
        "' '.join(sample_text)"
      ],
      "execution_count": null,
      "outputs": [
        {
          "data": {
            "application/vnd.google.colaboratory.intrinsic+json": {
              "type": "string"
            },
            "text/plain": [
              "'второй UNK год окончательно разочаровать решить податься альфабанк'"
            ]
          },
          "execution_count": 7,
          "metadata": {},
          "output_type": "execute_result"
        }
      ]
    },
    {
      "cell_type": "markdown",
      "metadata": {
        "id": "u4p-Sccx0maj"
      },
      "source": [
        "# Реализуйте разделение предложения на примеры методом CBOW"
      ]
    },
    {
      "cell_type": "code",
      "metadata": {
        "id": "Si4FA5AX0mak"
      },
      "source": [
        "def cbow_split(tokens, window, pad_token='PAD'):\n",
        "    \n",
        "    splits = []\n",
        "    #CODE\n",
        "    padding = [pad_token]*2\n",
        "    tokens = padding + tokens + padding\n",
        "    for i in range(window, len(tokens)-window):\n",
        "      center = tokens[i]\n",
        "      left = tokens[i-window:i]\n",
        "      right = tokens[i+1:i+1+window]\n",
        "      split = (left, center, right)\n",
        "      splits.append(split)\n",
        "\n",
        "    return splits"
      ],
      "execution_count": null,
      "outputs": []
    },
    {
      "cell_type": "code",
      "metadata": {
        "id": "jpNWCdfV0mak"
      },
      "source": [
        "splits = cbow_split(sample_text, window=2)"
      ],
      "execution_count": null,
      "outputs": []
    },
    {
      "cell_type": "code",
      "metadata": {
        "colab": {
          "base_uri": "https://localhost:8080/"
        },
        "id": "pCpnw8Zw0mal",
        "outputId": "07665ef0-fd1c-4cf1-836f-e99e18052b08"
      },
      "source": [
        "for sample in splits:\n",
        "    print('Левый контекст:', sample[0])\n",
        "    print('Центральное слово:', sample[1])\n",
        "    print('Правый контекст:', sample[2], end='\\n\\n')"
      ],
      "execution_count": null,
      "outputs": [
        {
          "name": "stdout",
          "output_type": "stream",
          "text": [
            "Левый контекст: ['PAD', 'PAD']\n",
            "Центральное слово: второй\n",
            "Правый контекст: ['UNK', 'год']\n",
            "\n",
            "Левый контекст: ['PAD', 'второй']\n",
            "Центральное слово: UNK\n",
            "Правый контекст: ['год', 'окончательно']\n",
            "\n",
            "Левый контекст: ['второй', 'UNK']\n",
            "Центральное слово: год\n",
            "Правый контекст: ['окончательно', 'разочаровать']\n",
            "\n",
            "Левый контекст: ['UNK', 'год']\n",
            "Центральное слово: окончательно\n",
            "Правый контекст: ['разочаровать', 'решить']\n",
            "\n",
            "Левый контекст: ['год', 'окончательно']\n",
            "Центральное слово: разочаровать\n",
            "Правый контекст: ['решить', 'податься']\n",
            "\n",
            "Левый контекст: ['окончательно', 'разочаровать']\n",
            "Центральное слово: решить\n",
            "Правый контекст: ['податься', 'альфабанк']\n",
            "\n",
            "Левый контекст: ['разочаровать', 'решить']\n",
            "Центральное слово: податься\n",
            "Правый контекст: ['альфабанк', 'PAD']\n",
            "\n",
            "Левый контекст: ['решить', 'податься']\n",
            "Центральное слово: альфабанк\n",
            "Правый контекст: ['PAD', 'PAD']\n",
            "\n"
          ]
        }
      ]
    },
    {
      "cell_type": "code",
      "metadata": {
        "colab": {
          "base_uri": "https://localhost:8080/"
        },
        "id": "tLnZlMOJ0mal",
        "outputId": "d94dd4be-df92-48eb-e175-ae98356ef679"
      },
      "source": [
        "splits"
      ],
      "execution_count": null,
      "outputs": [
        {
          "data": {
            "text/plain": [
              "[(['PAD', 'PAD'], 'второй', ['UNK', 'год']),\n",
              " (['PAD', 'второй'], 'UNK', ['год', 'окончательно']),\n",
              " (['второй', 'UNK'], 'год', ['окончательно', 'разочаровать']),\n",
              " (['UNK', 'год'], 'окончательно', ['разочаровать', 'решить']),\n",
              " (['год', 'окончательно'], 'разочаровать', ['решить', 'податься']),\n",
              " (['окончательно', 'разочаровать'], 'решить', ['податься', 'альфабанк']),\n",
              " (['разочаровать', 'решить'], 'податься', ['альфабанк', 'PAD']),\n",
              " (['решить', 'податься'], 'альфабанк', ['PAD', 'PAD'])]"
            ]
          },
          "execution_count": 11,
          "metadata": {},
          "output_type": "execute_result"
        }
      ]
    },
    {
      "cell_type": "markdown",
      "metadata": {
        "id": "3lbnB3me0mal"
      },
      "source": [
        "# Expected\n",
        "\n",
        "```python\n",
        "[(['PAD', 'PAD'], 'вопрос', ['почему', 'например']),\n",
        " (['PAD', 'вопрос'], 'почему', ['например', 'китайский']),\n",
        " (['вопрос', 'почему'], 'например', ['китайский', 'японский']),\n",
        " (['почему', 'например'], 'китайский', ['японский', 'UNK']),\n",
        " (['например', 'китайский'], 'японский', ['UNK', 'PAD']),\n",
        " (['китайский', 'японский'], 'UNK', ['PAD', 'PAD'])]\n",
        "```"
      ]
    },
    {
      "cell_type": "code",
      "metadata": {
        "colab": {
          "base_uri": "https://localhost:8080/"
        },
        "id": "gTuDWQcG0mam",
        "outputId": "57ebab64-f885-4682-85a7-dbed5b1f7851"
      },
      "source": [
        "cbow_split(sample_text, window=3)"
      ],
      "execution_count": null,
      "outputs": [
        {
          "data": {
            "text/plain": [
              "[(['PAD', 'PAD', 'второй'], 'UNK', ['год', 'окончательно', 'разочаровать']),\n",
              " (['PAD', 'второй', 'UNK'], 'год', ['окончательно', 'разочаровать', 'решить']),\n",
              " (['второй', 'UNK', 'год'],\n",
              "  'окончательно',\n",
              "  ['разочаровать', 'решить', 'податься']),\n",
              " (['UNK', 'год', 'окончательно'],\n",
              "  'разочаровать',\n",
              "  ['решить', 'податься', 'альфабанк']),\n",
              " (['год', 'окончательно', 'разочаровать'],\n",
              "  'решить',\n",
              "  ['податься', 'альфабанк', 'PAD']),\n",
              " (['окончательно', 'разочаровать', 'решить'],\n",
              "  'податься',\n",
              "  ['альфабанк', 'PAD', 'PAD'])]"
            ]
          },
          "execution_count": 12,
          "metadata": {},
          "output_type": "execute_result"
        }
      ]
    },
    {
      "cell_type": "markdown",
      "metadata": {
        "id": "sr240ImA0mam"
      },
      "source": [
        "# Expected\n",
        "\n",
        "```python\n",
        "[(['PAD', 'PAD', 'PAD'], 'вопрос', ['почему', 'например', 'китайский']),\n",
        " (['PAD', 'PAD', 'вопрос'], 'почему', ['например', 'китайский', 'японский']),\n",
        " (['PAD', 'вопрос', 'почему'], 'например', ['китайский', 'японский', 'UNK']),\n",
        " (['вопрос', 'почему', 'например'], 'китайский', ['японский', 'UNK', 'PAD']),\n",
        " (['почему', 'например', 'китайский'], 'японский', ['UNK', 'PAD', 'PAD']),\n",
        " (['например', 'китайский', 'японский'], 'UNK', ['PAD', 'PAD', 'PAD'])]\n",
        "```"
      ]
    },
    {
      "cell_type": "markdown",
      "metadata": {
        "id": "LVo1WhM40man"
      },
      "source": [
        "# Skipgram"
      ]
    },
    {
      "cell_type": "code",
      "metadata": {
        "colab": {
          "base_uri": "https://localhost:8080/",
          "height": 37
        },
        "id": "RJ7urKfd0man",
        "outputId": "f682e404-c90b-43dc-ed7a-b2fe4c8b93a5"
      },
      "source": [
        "' '.join(sample_text)"
      ],
      "execution_count": null,
      "outputs": [
        {
          "data": {
            "application/vnd.google.colaboratory.intrinsic+json": {
              "type": "string"
            },
            "text/plain": [
              "'второй UNK год окончательно разочаровать решить податься альфабанк'"
            ]
          },
          "execution_count": 13,
          "metadata": {},
          "output_type": "execute_result"
        }
      ]
    },
    {
      "cell_type": "markdown",
      "metadata": {
        "id": "mlvkECG30man"
      },
      "source": [
        "# Реализуйте разделение предложения на примеры методом Skipgram"
      ]
    },
    {
      "cell_type": "code",
      "metadata": {
        "id": "MdgWJBbq0mao"
      },
      "source": [
        "def skipgram_split(tokens, window):\n",
        "    \n",
        "    splits = []\n",
        "    \n",
        "    # CODE\n",
        "    for i, center in enumerate(tokens):\n",
        "        left = max(i-window, 0)\n",
        "        right = min(i+window+1, len(tokens))\n",
        "        left_context = tokens[left:i]\n",
        "        right_context = tokens[i+1:right]\n",
        "        full_context = left_context + right_context\n",
        "        for context in full_context:\n",
        "            splits.append((context, center))\n",
        "    \n",
        "    return splits"
      ],
      "execution_count": 2,
      "outputs": []
    },
    {
      "cell_type": "code",
      "metadata": {
        "id": "Ll4bLOqE0mao"
      },
      "source": [
        "splits = skipgram_split(sample_text, window=2)"
      ],
      "execution_count": null,
      "outputs": []
    },
    {
      "cell_type": "code",
      "metadata": {
        "colab": {
          "base_uri": "https://localhost:8080/"
        },
        "id": "VwdM51tN8Jhg",
        "outputId": "96d471e3-87a3-4002-ae6f-1283c93562e4"
      },
      "source": [
        "splits"
      ],
      "execution_count": null,
      "outputs": [
        {
          "data": {
            "text/plain": [
              "[('UNK', 'второй'),\n",
              " ('год', 'второй'),\n",
              " ('второй', 'UNK'),\n",
              " ('год', 'UNK'),\n",
              " ('окончательно', 'UNK'),\n",
              " ('второй', 'год'),\n",
              " ('UNK', 'год'),\n",
              " ('окончательно', 'год'),\n",
              " ('разочаровать', 'год'),\n",
              " ('UNK', 'окончательно'),\n",
              " ('год', 'окончательно'),\n",
              " ('разочаровать', 'окончательно'),\n",
              " ('решить', 'окончательно'),\n",
              " ('год', 'разочаровать'),\n",
              " ('окончательно', 'разочаровать'),\n",
              " ('решить', 'разочаровать'),\n",
              " ('податься', 'разочаровать'),\n",
              " ('окончательно', 'решить'),\n",
              " ('разочаровать', 'решить'),\n",
              " ('податься', 'решить'),\n",
              " ('альфабанк', 'решить'),\n",
              " ('разочаровать', 'податься'),\n",
              " ('решить', 'податься'),\n",
              " ('альфабанк', 'податься'),\n",
              " ('решить', 'альфабанк'),\n",
              " ('податься', 'альфабанк')]"
            ]
          },
          "execution_count": 16,
          "metadata": {},
          "output_type": "execute_result"
        }
      ]
    },
    {
      "cell_type": "code",
      "metadata": {
        "colab": {
          "base_uri": "https://localhost:8080/"
        },
        "id": "2sQa5nHD0mao",
        "outputId": "0267be49-37bb-4ea2-a601-8646df1a5a78"
      },
      "source": [
        "for sample in splits:\n",
        "    print('Контекст:', sample[0])\n",
        "    print('Центральное слово:', sample[1], end='\\n\\n')"
      ],
      "execution_count": null,
      "outputs": [
        {
          "name": "stdout",
          "output_type": "stream",
          "text": [
            "Контекст: UNK\n",
            "Центральное слово: второй\n",
            "\n",
            "Контекст: год\n",
            "Центральное слово: второй\n",
            "\n",
            "Контекст: второй\n",
            "Центральное слово: UNK\n",
            "\n",
            "Контекст: год\n",
            "Центральное слово: UNK\n",
            "\n",
            "Контекст: окончательно\n",
            "Центральное слово: UNK\n",
            "\n",
            "Контекст: второй\n",
            "Центральное слово: год\n",
            "\n",
            "Контекст: UNK\n",
            "Центральное слово: год\n",
            "\n",
            "Контекст: окончательно\n",
            "Центральное слово: год\n",
            "\n",
            "Контекст: разочаровать\n",
            "Центральное слово: год\n",
            "\n",
            "Контекст: UNK\n",
            "Центральное слово: окончательно\n",
            "\n",
            "Контекст: год\n",
            "Центральное слово: окончательно\n",
            "\n",
            "Контекст: разочаровать\n",
            "Центральное слово: окончательно\n",
            "\n",
            "Контекст: решить\n",
            "Центральное слово: окончательно\n",
            "\n",
            "Контекст: год\n",
            "Центральное слово: разочаровать\n",
            "\n",
            "Контекст: окончательно\n",
            "Центральное слово: разочаровать\n",
            "\n",
            "Контекст: решить\n",
            "Центральное слово: разочаровать\n",
            "\n",
            "Контекст: податься\n",
            "Центральное слово: разочаровать\n",
            "\n",
            "Контекст: окончательно\n",
            "Центральное слово: решить\n",
            "\n",
            "Контекст: разочаровать\n",
            "Центральное слово: решить\n",
            "\n",
            "Контекст: податься\n",
            "Центральное слово: решить\n",
            "\n",
            "Контекст: альфабанк\n",
            "Центральное слово: решить\n",
            "\n",
            "Контекст: разочаровать\n",
            "Центральное слово: податься\n",
            "\n",
            "Контекст: решить\n",
            "Центральное слово: податься\n",
            "\n",
            "Контекст: альфабанк\n",
            "Центральное слово: податься\n",
            "\n",
            "Контекст: решить\n",
            "Центральное слово: альфабанк\n",
            "\n",
            "Контекст: податься\n",
            "Центральное слово: альфабанк\n",
            "\n"
          ]
        }
      ]
    },
    {
      "cell_type": "code",
      "metadata": {
        "colab": {
          "base_uri": "https://localhost:8080/"
        },
        "id": "o6K99ICy0mao",
        "outputId": "7da0c246-7414-454f-de51-369ab4892140"
      },
      "source": [
        "skipgram_split(sample_text, window=2)"
      ],
      "execution_count": null,
      "outputs": [
        {
          "data": {
            "text/plain": [
              "[('UNK', 'второй'),\n",
              " ('год', 'второй'),\n",
              " ('второй', 'UNK'),\n",
              " ('год', 'UNK'),\n",
              " ('окончательно', 'UNK'),\n",
              " ('второй', 'год'),\n",
              " ('UNK', 'год'),\n",
              " ('окончательно', 'год'),\n",
              " ('разочаровать', 'год'),\n",
              " ('UNK', 'окончательно'),\n",
              " ('год', 'окончательно'),\n",
              " ('разочаровать', 'окончательно'),\n",
              " ('решить', 'окончательно'),\n",
              " ('год', 'разочаровать'),\n",
              " ('окончательно', 'разочаровать'),\n",
              " ('решить', 'разочаровать'),\n",
              " ('податься', 'разочаровать'),\n",
              " ('окончательно', 'решить'),\n",
              " ('разочаровать', 'решить'),\n",
              " ('податься', 'решить'),\n",
              " ('альфабанк', 'решить'),\n",
              " ('разочаровать', 'податься'),\n",
              " ('решить', 'податься'),\n",
              " ('альфабанк', 'податься'),\n",
              " ('решить', 'альфабанк'),\n",
              " ('податься', 'альфабанк')]"
            ]
          },
          "execution_count": 18,
          "metadata": {},
          "output_type": "execute_result"
        }
      ]
    },
    {
      "cell_type": "markdown",
      "metadata": {
        "id": "hActhA9H0map"
      },
      "source": [
        "# Expected\n",
        "\n",
        "```python\n",
        "[('почему', 'вопрос'),\n",
        " ('например', 'вопрос'),\n",
        " ('вопрос', 'почему'),\n",
        " ('например', 'почему'),\n",
        " ('китайский', 'почему'),\n",
        " ('вопрос', 'например'),\n",
        " ('почему', 'например'),\n",
        " ('китайский', 'например'),\n",
        " ('японский', 'например'),\n",
        " ('почему', 'китайский'),\n",
        " ('например', 'китайский'),\n",
        " ('японский', 'китайский'),\n",
        " ('UNK', 'китайский'),\n",
        " ('например', 'японский'),\n",
        " ('китайский', 'японский'),\n",
        " ('UNK', 'японский'),\n",
        " ('китайский', 'UNK'),\n",
        " ('японский', 'UNK')]\n",
        "```"
      ]
    },
    {
      "cell_type": "code",
      "metadata": {
        "colab": {
          "base_uri": "https://localhost:8080/"
        },
        "id": "zXDzGAOF0map",
        "outputId": "e67e7d2a-f8ba-48dc-d7a2-935fec4c44a5"
      },
      "source": [
        "skipgram_split(sample_text, window=3)"
      ],
      "execution_count": null,
      "outputs": [
        {
          "data": {
            "text/plain": [
              "[('UNK', 'второй'),\n",
              " ('год', 'второй'),\n",
              " ('окончательно', 'второй'),\n",
              " ('второй', 'UNK'),\n",
              " ('год', 'UNK'),\n",
              " ('окончательно', 'UNK'),\n",
              " ('разочаровать', 'UNK'),\n",
              " ('второй', 'год'),\n",
              " ('UNK', 'год'),\n",
              " ('окончательно', 'год'),\n",
              " ('разочаровать', 'год'),\n",
              " ('решить', 'год'),\n",
              " ('второй', 'окончательно'),\n",
              " ('UNK', 'окончательно'),\n",
              " ('год', 'окончательно'),\n",
              " ('разочаровать', 'окончательно'),\n",
              " ('решить', 'окончательно'),\n",
              " ('податься', 'окончательно'),\n",
              " ('UNK', 'разочаровать'),\n",
              " ('год', 'разочаровать'),\n",
              " ('окончательно', 'разочаровать'),\n",
              " ('решить', 'разочаровать'),\n",
              " ('податься', 'разочаровать'),\n",
              " ('альфабанк', 'разочаровать'),\n",
              " ('год', 'решить'),\n",
              " ('окончательно', 'решить'),\n",
              " ('разочаровать', 'решить'),\n",
              " ('податься', 'решить'),\n",
              " ('альфабанк', 'решить'),\n",
              " ('окончательно', 'податься'),\n",
              " ('разочаровать', 'податься'),\n",
              " ('решить', 'податься'),\n",
              " ('альфабанк', 'податься'),\n",
              " ('разочаровать', 'альфабанк'),\n",
              " ('решить', 'альфабанк'),\n",
              " ('податься', 'альфабанк')]"
            ]
          },
          "execution_count": 115,
          "metadata": {},
          "output_type": "execute_result"
        }
      ]
    },
    {
      "cell_type": "markdown",
      "metadata": {
        "id": "GTmHPVjn0map"
      },
      "source": [
        "# Expected\n",
        "\n",
        "```python\n",
        "[('почему', 'вопрос'),\n",
        " ('например', 'вопрос'),\n",
        " ('китайский', 'вопрос'),\n",
        " ('вопрос', 'почему'),\n",
        " ('например', 'почему'),\n",
        " ('китайский', 'почему'),\n",
        " ('японский', 'почему'),\n",
        " ('вопрос', 'например'),\n",
        " ('почему', 'например'),\n",
        " ('китайский', 'например'),\n",
        " ('японский', 'например'),\n",
        " ('UNK', 'например'),\n",
        " ('вопрос', 'китайский'),\n",
        " ('почему', 'китайский'),\n",
        " ('например', 'китайский'),\n",
        " ('японский', 'китайский'),\n",
        " ('UNK', 'китайский'),\n",
        " ('почему', 'японский'),\n",
        " ('например', 'японский'),\n",
        " ('китайский', 'японский'),\n",
        " ('UNK', 'японский'),\n",
        " ('например', 'UNK'),\n",
        " ('китайский', 'UNK'),\n",
        " ('японский', 'UNK')]\n",
        "```"
      ]
    },
    {
      "cell_type": "markdown",
      "metadata": {
        "id": "IDH6rllY6C44"
      },
      "source": [
        "Это и некоторые другие вещи, типа обучения модели, я обернул в функции, чтобы проще потом было использовать при экспериментах"
      ]
    },
    {
      "cell_type": "code",
      "metadata": {
        "id": "EG5b8BaE0maq"
      },
      "source": [
        "def get_word2index(path='processed_corpus.json'):\n",
        "\n",
        "  word2index = {}\n",
        "\n",
        "  with open(path) as f:\n",
        "    corpus = json.load(f)\n",
        "  \n",
        "  for text in corpus:\n",
        "    for token in text:\n",
        "      if token not in word2index:\n",
        "        word2index[token] = len(word2index)\n",
        "  \n",
        "  return word2index"
      ],
      "execution_count": 33,
      "outputs": []
    },
    {
      "cell_type": "code",
      "metadata": {
        "id": "e038vRCpzSID"
      },
      "source": [
        "word2index = get_word2index()"
      ],
      "execution_count": 38,
      "outputs": []
    },
    {
      "cell_type": "code",
      "metadata": {
        "colab": {
          "base_uri": "https://localhost:8080/"
        },
        "id": "4SM4_YvC0maq",
        "outputId": "63323e9d-1a5a-4200-9923-a82442c7991f"
      },
      "source": [
        "len(word2index)"
      ],
      "execution_count": null,
      "outputs": [
        {
          "data": {
            "text/plain": [
              "13076"
            ]
          },
          "execution_count": 21,
          "metadata": {},
          "output_type": "execute_result"
        }
      ]
    },
    {
      "cell_type": "code",
      "metadata": {
        "colab": {
          "base_uri": "https://localhost:8080/"
        },
        "id": "o20Beff90maq",
        "outputId": "851691b3-8dcc-42d3-848a-d8cd4b5e028a"
      },
      "source": [
        "word2index['UNK']"
      ],
      "execution_count": null,
      "outputs": [
        {
          "data": {
            "text/plain": [
              "1"
            ]
          },
          "execution_count": 22,
          "metadata": {},
          "output_type": "execute_result"
        }
      ]
    },
    {
      "cell_type": "code",
      "metadata": {
        "colab": {
          "base_uri": "https://localhost:8080/"
        },
        "id": "sAfBW4cr0mar",
        "outputId": "8ee35c94-7374-4884-b868-dc84373fbcae"
      },
      "source": [
        "[word2index[tok] if tok in word2index else word2index['UNK'] for tok in 'мама мыть рама'.split()]"
      ],
      "execution_count": null,
      "outputs": [
        {
          "data": {
            "text/plain": [
              "[1282, 8436, 1]"
            ]
          },
          "execution_count": 23,
          "metadata": {},
          "output_type": "execute_result"
        }
      ]
    },
    {
      "cell_type": "markdown",
      "metadata": {
        "id": "gEmQnGy00mar"
      },
      "source": [
        "# Torch Dataset\n",
        "В торче есть очень удобная читалка данных"
      ]
    },
    {
      "cell_type": "code",
      "metadata": {
        "id": "vdxGritF0mar"
      },
      "source": [
        "from torch.utils.data import Dataset, DataLoader"
      ],
      "execution_count": 35,
      "outputs": []
    },
    {
      "cell_type": "code",
      "metadata": {
        "id": "BIB9EWf-0mar"
      },
      "source": [
        "# игрушечный датасет\n",
        "# 121535 примера, 4 фичи, 3 класса\n",
        "some_data_x = np.random.rand(121535, 4)\n",
        "some_data_y = np.random.randint(3, size=(121535,))"
      ],
      "execution_count": null,
      "outputs": []
    },
    {
      "cell_type": "code",
      "metadata": {
        "colab": {
          "base_uri": "https://localhost:8080/"
        },
        "id": "uKZKiW7w0mas",
        "outputId": "7312f6f2-646b-4746-fe71-8a73d92ed36f"
      },
      "source": [
        "# соверешенно игрушечный, просто цифры\n",
        "some_data_x[:10]"
      ],
      "execution_count": null,
      "outputs": [
        {
          "data": {
            "text/plain": [
              "array([[0.80763932, 0.70000794, 0.08786041, 0.15615916],\n",
              "       [0.16952997, 0.47373278, 0.6171898 , 0.25251959],\n",
              "       [0.57328739, 0.46611352, 0.64594597, 0.89625784],\n",
              "       [0.0590957 , 0.36445452, 0.62500675, 0.1118449 ],\n",
              "       [0.66597543, 0.06839245, 0.34237243, 0.91512317],\n",
              "       [0.46371213, 0.62554359, 0.01332552, 0.67483071],\n",
              "       [0.15071175, 0.27628772, 0.64633953, 0.4587506 ],\n",
              "       [0.36412671, 0.2795205 , 0.60432103, 0.17327947],\n",
              "       [0.64176477, 0.86385814, 0.86976857, 0.95143235],\n",
              "       [0.3227515 , 0.93697474, 0.19408151, 0.73823143]])"
            ]
          },
          "execution_count": 11,
          "metadata": {},
          "output_type": "execute_result"
        }
      ]
    },
    {
      "cell_type": "code",
      "metadata": {
        "colab": {
          "base_uri": "https://localhost:8080/"
        },
        "id": "sy26g5fz0mas",
        "outputId": "c6942d61-92f8-44e3-a55b-8445a57c598c"
      },
      "source": [
        "some_data_y"
      ],
      "execution_count": null,
      "outputs": [
        {
          "data": {
            "text/plain": [
              "array([2, 1, 0, ..., 2, 1, 2])"
            ]
          },
          "execution_count": 12,
          "metadata": {},
          "output_type": "execute_result"
        }
      ]
    },
    {
      "cell_type": "code",
      "metadata": {
        "id": "1T528aDF0mas"
      },
      "source": [
        "class ToyDataset(Dataset):\n",
        "    \n",
        "    def __init__(self, data_x, data_y):\n",
        "        \n",
        "        super().__init__()\n",
        "        \n",
        "        self.data_x = data_x\n",
        "        self.data_y = data_y\n",
        "        \n",
        "    def __len__(self):\n",
        "        \n",
        "        # Нужно обязательно определить эту функцию\n",
        "        # Должна возвращать размер датасета\n",
        "        \n",
        "        return len(self.data_x)\n",
        "    \n",
        "    def __getitem__(self, idx):\n",
        "        \n",
        "        # Еще нужно определить этот метод\n",
        "        # То есть как мы будем доставать наши данные по индексу\n",
        "        \n",
        "        return self.data_x[idx], self.data_y[idx]"
      ],
      "execution_count": null,
      "outputs": []
    },
    {
      "cell_type": "code",
      "metadata": {
        "id": "08QdKk230mas"
      },
      "source": [
        "some_dataset = ToyDataset(some_data_x, some_data_y)"
      ],
      "execution_count": null,
      "outputs": []
    },
    {
      "cell_type": "code",
      "metadata": {
        "colab": {
          "base_uri": "https://localhost:8080/"
        },
        "id": "eDj-ki7a0mat",
        "outputId": "885cf459-5f67-4fac-cc2e-26f085baa812"
      },
      "source": [
        "some_dataset[5], some_dataset[467]"
      ],
      "execution_count": null,
      "outputs": [
        {
          "data": {
            "text/plain": [
              "((array([0.46371213, 0.62554359, 0.01332552, 0.67483071]), 2),\n",
              " (array([0.65352849, 0.26169994, 0.51280673, 0.20233653]), 0))"
            ]
          },
          "execution_count": 15,
          "metadata": {},
          "output_type": "execute_result"
        }
      ]
    },
    {
      "cell_type": "code",
      "metadata": {
        "id": "MyvkysSY0mat"
      },
      "source": [
        "some_loader = DataLoader(some_dataset, batch_size=16, shuffle=True)"
      ],
      "execution_count": null,
      "outputs": []
    },
    {
      "cell_type": "code",
      "metadata": {
        "colab": {
          "base_uri": "https://localhost:8080/"
        },
        "id": "JOqFY3480mat",
        "outputId": "737a7af6-ee41-415e-8d71-6210200b6312"
      },
      "source": [
        "for x, y in some_loader:\n",
        "    break\n",
        "    \n",
        "len(x), x"
      ],
      "execution_count": null,
      "outputs": [
        {
          "data": {
            "text/plain": [
              "(16, tensor([[0.0912, 0.9040, 0.8419, 0.3865],\n",
              "         [0.8889, 0.0763, 0.7034, 0.2864],\n",
              "         [0.3969, 0.6151, 0.8696, 0.0746],\n",
              "         [0.4180, 0.9891, 0.5861, 0.5383],\n",
              "         [0.3807, 0.7938, 0.6785, 0.7255],\n",
              "         [0.4778, 0.2167, 0.2917, 0.0697],\n",
              "         [0.7829, 0.4661, 0.3769, 0.6277],\n",
              "         [0.6035, 0.8709, 0.4871, 0.2002],\n",
              "         [0.3345, 0.1266, 0.3873, 0.1573],\n",
              "         [0.6202, 0.9935, 0.6827, 0.2273],\n",
              "         [0.6765, 0.9771, 0.9016, 0.4413],\n",
              "         [0.6801, 0.3531, 0.9752, 0.7508],\n",
              "         [0.6724, 0.6285, 0.6237, 0.9349],\n",
              "         [0.1133, 0.3670, 0.3482, 0.9445],\n",
              "         [0.6212, 0.9264, 0.7261, 0.0546],\n",
              "         [0.6711, 0.5993, 0.1075, 0.2664]], dtype=torch.float64))"
            ]
          },
          "execution_count": 17,
          "metadata": {},
          "output_type": "execute_result"
        }
      ]
    },
    {
      "cell_type": "code",
      "metadata": {
        "colab": {
          "base_uri": "https://localhost:8080/"
        },
        "id": "JM8V_Cw10mat",
        "outputId": "f188b9ef-0c2a-4765-a977-eeb9be601ec0"
      },
      "source": [
        "for x, y in some_loader:\n",
        "    pass\n",
        "\n",
        "len(x)"
      ],
      "execution_count": null,
      "outputs": [
        {
          "data": {
            "text/plain": [
              "15"
            ]
          },
          "execution_count": 18,
          "metadata": {},
          "output_type": "execute_result"
        }
      ]
    },
    {
      "cell_type": "code",
      "metadata": {
        "colab": {
          "base_uri": "https://localhost:8080/"
        },
        "id": "H6j_-BPL0mau",
        "outputId": "fac9400f-1d78-427e-a5e2-e12c9873565a"
      },
      "source": [
        "# почему 13?\n",
        "# потому что количество наших данных нацело не делится на 16\n",
        "# и поэтому последний батч меньше 16-ти\n",
        "len(some_dataset) % 16"
      ],
      "execution_count": null,
      "outputs": [
        {
          "data": {
            "text/plain": [
              "15"
            ]
          },
          "execution_count": 19,
          "metadata": {},
          "output_type": "execute_result"
        }
      ]
    },
    {
      "cell_type": "markdown",
      "metadata": {
        "id": "ZLhRXopf0mau"
      },
      "source": [
        "# А зачем?"
      ]
    },
    {
      "cell_type": "code",
      "metadata": {
        "id": "ZQE-Hv7N0mau"
      },
      "source": [
        "class ToyDataset(Dataset):\n",
        "    \n",
        "    def __init__(self, data_x, data_y):\n",
        "        \n",
        "        super().__init__()\n",
        "        \n",
        "        self.data_x = data_x\n",
        "        self.data_y = data_y\n",
        "        \n",
        "    def __len__(self):\n",
        "        \n",
        "        # Нужно обязательно определить эту функцию\n",
        "        # Должна возвращать размер датасета\n",
        "        \n",
        "        return len(self.data_x)\n",
        "    \n",
        "    @staticmethod\n",
        "    def add_pow_features(x, n=2):\n",
        "        \n",
        "        return np.concatenate([x, x ** n]) \n",
        "    \n",
        "    @staticmethod\n",
        "    def add_log_features(x):\n",
        "        \n",
        "        return np.concatenate([x, np.log(x)]) \n",
        "    \n",
        "    def __getitem__(self, idx):\n",
        "        \n",
        "        # Еще нужно определить этот метод\n",
        "        # То есть как мы будем доставать наши данные по индексу\n",
        "        \n",
        "        x = self.data_x[idx]\n",
        "        \n",
        "        # внутри датасета мы можем делать все что угодно с нашими данными\n",
        "        # например выше определим функции, которые добавляют степенные фичи\n",
        "        x = self.add_pow_features(x, n=2)\n",
        "        x = self.add_pow_features(x, n=3)\n",
        "        # и еще возьмем логарифмические фичи\n",
        "        x = self.add_log_features(x)\n",
        "        \n",
        "        y = self.data_y[idx]\n",
        "        \n",
        "        return x, y"
      ],
      "execution_count": null,
      "outputs": []
    },
    {
      "cell_type": "code",
      "metadata": {
        "id": "dR_EwnUN0mau"
      },
      "source": [
        "toy_dataset = ToyDataset(some_data_x, some_data_y)"
      ],
      "execution_count": null,
      "outputs": []
    },
    {
      "cell_type": "code",
      "metadata": {
        "id": "R35tWKpE0mav"
      },
      "source": [
        "toy_loader = DataLoader(dataset=toy_dataset, batch_size=128)"
      ],
      "execution_count": null,
      "outputs": []
    },
    {
      "cell_type": "code",
      "metadata": {
        "id": "35M7iSw00mav"
      },
      "source": [
        "for x, y in toy_loader:\n",
        "    break"
      ],
      "execution_count": null,
      "outputs": []
    },
    {
      "cell_type": "code",
      "metadata": {
        "colab": {
          "base_uri": "https://localhost:8080/"
        },
        "id": "YheszOZX0mav",
        "outputId": "766acebc-8d97-425d-a2d4-50830d196a90"
      },
      "source": [
        "x.shape"
      ],
      "execution_count": null,
      "outputs": [
        {
          "data": {
            "text/plain": [
              "torch.Size([128, 32])"
            ]
          },
          "execution_count": 24,
          "metadata": {},
          "output_type": "execute_result"
        }
      ]
    },
    {
      "cell_type": "code",
      "metadata": {
        "colab": {
          "base_uri": "https://localhost:8080/"
        },
        "id": "c258rPsp0mav",
        "outputId": "15def3b5-4e0d-4588-aba5-e5a1959d0519"
      },
      "source": [
        "# заметим, что мы сразу получаем торчовый формат данных\n",
        "x"
      ],
      "execution_count": null,
      "outputs": [
        {
          "data": {
            "text/plain": [
              "tensor([[ 8.0764e-01,  7.0001e-01,  8.7860e-02,  ..., -2.1400e+00,\n",
              "         -1.4592e+01, -1.1141e+01],\n",
              "        [ 1.6953e-01,  4.7373e-01,  6.1719e-01,  ..., -4.4827e+00,\n",
              "         -2.8955e+00, -8.2576e+00],\n",
              "        [ 5.7329e-01,  4.6611e-01,  6.4595e-01,  ..., -4.5800e+00,\n",
              "         -2.6222e+00, -6.5716e-01],\n",
              "        ...,\n",
              "        [ 3.7118e-01,  9.3891e-01,  1.5279e-02,  ..., -3.7820e-01,\n",
              "         -2.5088e+01, -3.7898e-01],\n",
              "        [ 8.0628e-01,  7.2011e-01,  7.2882e-01,  ..., -1.9701e+00,\n",
              "         -1.8980e+00, -8.5226e+00],\n",
              "        [ 4.2888e-01,  5.4273e-01,  6.9399e-01,  ..., -3.6669e+00,\n",
              "         -2.1918e+00, -5.9809e-01]], dtype=torch.float64)"
            ]
          },
          "execution_count": 25,
          "metadata": {},
          "output_type": "execute_result"
        }
      ]
    },
    {
      "cell_type": "code",
      "metadata": {
        "colab": {
          "base_uri": "https://localhost:8080/"
        },
        "id": "VOl09Hr90mav",
        "outputId": "147ac7e9-31e4-4d01-cdf6-6b71cf1e285a"
      },
      "source": [
        "y"
      ],
      "execution_count": null,
      "outputs": [
        {
          "data": {
            "text/plain": [
              "tensor([2, 1, 0, 2, 0, 2, 2, 2, 1, 0, 2, 2, 1, 1, 2, 1, 1, 1, 2, 0, 2, 0, 1, 2,\n",
              "        2, 0, 2, 2, 1, 1, 0, 2, 0, 0, 2, 0, 2, 1, 0, 2, 2, 2, 2, 1, 0, 1, 0, 2,\n",
              "        2, 2, 0, 2, 2, 1, 2, 1, 2, 2, 1, 1, 1, 0, 0, 1, 1, 0, 1, 1, 2, 0, 2, 2,\n",
              "        2, 2, 0, 2, 2, 0, 2, 0, 1, 1, 0, 1, 0, 1, 0, 0, 0, 2, 1, 2, 0, 1, 1, 1,\n",
              "        2, 1, 1, 2, 2, 1, 2, 2, 0, 2, 0, 0, 0, 2, 1, 0, 0, 1, 1, 0, 1, 2, 0, 0,\n",
              "        1, 2, 0, 0, 0, 1, 2, 1])"
            ]
          },
          "execution_count": 26,
          "metadata": {},
          "output_type": "execute_result"
        }
      ]
    },
    {
      "cell_type": "markdown",
      "metadata": {
        "id": "fRFAUdLI0maw"
      },
      "source": [
        "# Если вы ничего здесь не понимаете, то вернитесь в конец первой домашки, там все объясняется"
      ]
    },
    {
      "cell_type": "code",
      "metadata": {
        "id": "PZ8-HECE0maw"
      },
      "source": [
        "model = torch.nn.Sequential(torch.nn.Linear(32, 16),\n",
        "                            torch.nn.ReLU(),\n",
        "                            torch.nn.Linear(16, 8),\n",
        "                            torch.nn.ReLU(),\n",
        "                            torch.nn.Linear(8, 3))\n",
        "\n",
        "criterion = torch.nn.CrossEntropyLoss()"
      ],
      "execution_count": null,
      "outputs": []
    },
    {
      "cell_type": "code",
      "metadata": {
        "colab": {
          "base_uri": "https://localhost:8080/",
          "height": 232
        },
        "id": "6N2OvMrl0maw",
        "outputId": "b80a0e5f-b424-4cc2-b250-fe07f2f5632d"
      },
      "source": [
        "with torch.no_grad():\n",
        "\n",
        "    prediction = model(x.float())\n",
        "\n",
        "    loss = criterion(prediction, y)\n",
        "    \n",
        "loss.item()"
      ],
      "execution_count": null,
      "outputs": [
        {
          "output_type": "error",
          "ename": "NameError",
          "evalue": "ignored",
          "traceback": [
            "\u001b[0;31m---------------------------------------------------------------------------\u001b[0m",
            "\u001b[0;31mNameError\u001b[0m                                 Traceback (most recent call last)",
            "\u001b[0;32m<ipython-input-6-efb54ffe9229>\u001b[0m in \u001b[0;36m<module>\u001b[0;34m()\u001b[0m\n\u001b[1;32m      1\u001b[0m \u001b[0;32mwith\u001b[0m \u001b[0mtorch\u001b[0m\u001b[0;34m.\u001b[0m\u001b[0mno_grad\u001b[0m\u001b[0;34m(\u001b[0m\u001b[0;34m)\u001b[0m\u001b[0;34m:\u001b[0m\u001b[0;34m\u001b[0m\u001b[0;34m\u001b[0m\u001b[0m\n\u001b[1;32m      2\u001b[0m \u001b[0;34m\u001b[0m\u001b[0m\n\u001b[0;32m----> 3\u001b[0;31m     \u001b[0mprediction\u001b[0m \u001b[0;34m=\u001b[0m \u001b[0mmodel\u001b[0m\u001b[0;34m(\u001b[0m\u001b[0mx\u001b[0m\u001b[0;34m.\u001b[0m\u001b[0mfloat\u001b[0m\u001b[0;34m(\u001b[0m\u001b[0;34m)\u001b[0m\u001b[0;34m)\u001b[0m\u001b[0;34m\u001b[0m\u001b[0;34m\u001b[0m\u001b[0m\n\u001b[0m\u001b[1;32m      4\u001b[0m \u001b[0;34m\u001b[0m\u001b[0m\n\u001b[1;32m      5\u001b[0m     \u001b[0mloss\u001b[0m \u001b[0;34m=\u001b[0m \u001b[0mcriterion\u001b[0m\u001b[0;34m(\u001b[0m\u001b[0mprediction\u001b[0m\u001b[0;34m,\u001b[0m \u001b[0my\u001b[0m\u001b[0;34m)\u001b[0m\u001b[0;34m\u001b[0m\u001b[0;34m\u001b[0m\u001b[0m\n",
            "\u001b[0;31mNameError\u001b[0m: name 'x' is not defined"
          ]
        }
      ]
    },
    {
      "cell_type": "markdown",
      "metadata": {
        "id": "cWiRzJwg0maw"
      },
      "source": [
        "# Боевые датасеты"
      ]
    },
    {
      "cell_type": "code",
      "metadata": {
        "id": "9R4KTKSs0maw"
      },
      "source": [
        "class CBOWDataset(Dataset):\n",
        "\n",
        "    def __init__(self,\n",
        "                 corpus,\n",
        "                 word2index,\n",
        "                 window=2,\n",
        "                 unk_token='UNK',\n",
        "                 pad_token='PAD',\n",
        "                 collect_verbose=True):\n",
        "\n",
        "        self.corpus = corpus\n",
        "        self.word2index = word2index\n",
        "        self.index2word = {value: key for key, value in self.word2index.items()}\n",
        "        self.window = window\n",
        "\n",
        "        self.unk_token = unk_token\n",
        "        self.unk_index = self.word2index[self.unk_token]\n",
        "\n",
        "        self.pad_token = pad_token\n",
        "        self.pad_index = len(self.word2index)\n",
        "\n",
        "        self.collect_verbose = collect_verbose\n",
        "\n",
        "        self.data = []\n",
        "\n",
        "        self.collect_data()\n",
        "\n",
        "    def __len__(self):\n",
        "\n",
        "        return len(self.data)\n",
        "\n",
        "    def _split_function(self, tokenized_text):\n",
        "\n",
        "        splits = []\n",
        "\n",
        "        for n in range(len(tokenized_text)):\n",
        "            left_context = tokenized_text[np.maximum(n - self.window, 0):n]\n",
        "            left_context = ([self.pad_index] * (self.window - len(left_context))) + left_context\n",
        "\n",
        "            central_word = tokenized_text[n]\n",
        "\n",
        "            right_context = tokenized_text[n + 1:n + self.window + 1]\n",
        "            right_context = right_context + ([self.pad_index] * (self.window - len(right_context)))\n",
        "\n",
        "            splits.append((left_context + right_context, central_word))\n",
        "\n",
        "        return splits\n",
        "\n",
        "    def indexing(self, tokenized_text):\n",
        "\n",
        "        return [self.word2index[token] if token in self.word2index else self.unk_index for token in tokenized_text]\n",
        "\n",
        "    def collect_data(self):\n",
        "\n",
        "        corpus = tqdm(self.corpus, disable=not self.collect_verbose)\n",
        "\n",
        "        for tokenized_text in corpus:\n",
        "            indexed_text = self.indexing(tokenized_text)\n",
        "            cbow_examples = self._split_function(indexed_text)\n",
        "\n",
        "            self.data.extend(cbow_examples)\n",
        "\n",
        "    def __getitem__(self, idx):\n",
        "\n",
        "        context, central_word = self.data[idx]\n",
        "\n",
        "        context = torch.Tensor(context).long()\n",
        "\n",
        "        return context, central_word"
      ],
      "execution_count": 36,
      "outputs": []
    },
    {
      "cell_type": "code",
      "metadata": {
        "id": "1lWZJUMyytod"
      },
      "source": [
        ""
      ],
      "execution_count": null,
      "outputs": []
    },
    {
      "cell_type": "markdown",
      "metadata": {
        "id": "3za7fdbD0max"
      },
      "source": [
        "# Мы будем учить модель Skipgram\n",
        "Реализуйте читалку данных"
      ]
    },
    {
      "cell_type": "code",
      "metadata": {
        "id": "mwy2922_0max"
      },
      "source": [
        "class SkipgramDataset(Dataset):\n",
        "\n",
        "    def __init__(self,\n",
        "                 corpus,\n",
        "                 word2index,\n",
        "                 window=2,\n",
        "                 unk_token='UNK',\n",
        "                 collect_verbose=True):\n",
        "        self.corpus = corpus\n",
        "        self.word2index = word2index\n",
        "        self.index2word = {value: key for key, value in self.word2index.items()}\n",
        "        self.window = window\n",
        "\n",
        "        self.unk_token = unk_token\n",
        "        self.unk_index = self.word2index[self.unk_token]\n",
        "        \n",
        "\n",
        "        self.collect_verbose = collect_verbose\n",
        "\n",
        "        self.data = []\n",
        "\n",
        "        self.collect_data()\n",
        "\n",
        "    def __len__(self):\n",
        "\n",
        "        return len(self.data)\n",
        "\n",
        "    def _split_function(self, tokenized_text):\n",
        "      #CODE\n",
        "      splits = []\n",
        "\n",
        "      for i, center in enumerate(tokenized_text):\n",
        "        left = max(i-self.window, 0)\n",
        "        right = min(i+self.window+1, len(tokenized_text))\n",
        "        left_context = tokenized_text[left:i]\n",
        "        right_context = tokenized_text[i+1:right]\n",
        "        full_context = left_context + right_context\n",
        "        \n",
        "        for context in full_context:\n",
        "          splits.append((context, center))\n",
        "      \n",
        "      return splits\n",
        "\n",
        "    def indexing(self, tokenized_text):\n",
        "\n",
        "        return [self.word2index[token] if token in self.word2index else self.unk_index for token in tokenized_text]\n",
        "\n",
        "    def collect_data(self):\n",
        "\n",
        "        corpus = tqdm(self.corpus, disable=not self.collect_verbose)\n",
        "\n",
        "        for tokenized_text in corpus:\n",
        "            indexed_text = self.indexing(tokenized_text)\n",
        "            skipgram_examples = self._split_function(indexed_text)\n",
        "\n",
        "            self.data.extend(skipgram_examples)\n",
        "\n",
        "    def __getitem__(self, idx):\n",
        "        \n",
        "        # CODE\n",
        "        context, central_word = self.data[idx]\n",
        "\n",
        "        return context, central_word"
      ],
      "execution_count": 5,
      "outputs": []
    },
    {
      "cell_type": "code",
      "metadata": {
        "id": "7ZRHK0E20max"
      },
      "source": [
        "# можете положить SkipgramDataset в отдельный файлик, например word2vec_utils и относительным импортом достать его \n",
        "#from .word2vec_utils import SkipgramDataset"
      ],
      "execution_count": null,
      "outputs": []
    },
    {
      "cell_type": "code",
      "metadata": {
        "colab": {
          "base_uri": "https://localhost:8080/"
        },
        "id": "_pbScf0Z0max",
        "scrolled": true,
        "outputId": "6a27568d-609b-45f2-dcd1-25a4ffaf027c"
      },
      "source": [
        "dataset = SkipgramDataset(corpus, word2index)"
      ],
      "execution_count": 40,
      "outputs": [
        {
          "output_type": "stream",
          "name": "stderr",
          "text": [
            "100%|██████████| 100000/100000 [00:03<00:00, 32967.14it/s]\n"
          ]
        }
      ]
    },
    {
      "cell_type": "code",
      "metadata": {
        "id": "CPX6SLoq0max"
      },
      "source": [
        "BATCH_SIZE = 512"
      ],
      "execution_count": 41,
      "outputs": []
    },
    {
      "cell_type": "code",
      "metadata": {
        "id": "Vh6OTpK10may"
      },
      "source": [
        "dataset_loader = DataLoader(dataset, shuffle=True, batch_size=BATCH_SIZE)"
      ],
      "execution_count": 42,
      "outputs": []
    },
    {
      "cell_type": "code",
      "metadata": {
        "id": "LmOzWSUA0may"
      },
      "source": [
        "for x, y in dataset_loader:\n",
        "    break"
      ],
      "execution_count": 43,
      "outputs": []
    },
    {
      "cell_type": "code",
      "metadata": {
        "colab": {
          "base_uri": "https://localhost:8080/"
        },
        "id": "3b5ma_Nd0may",
        "outputId": "b50c2602-7b69-450f-b10b-59402c0bf074"
      },
      "source": [
        "x[:5]"
      ],
      "execution_count": null,
      "outputs": [
        {
          "output_type": "execute_result",
          "data": {
            "text/plain": [
              "tensor([ 382,   62,  248, 3146,   25])"
            ]
          },
          "metadata": {},
          "execution_count": 44
        }
      ]
    },
    {
      "cell_type": "code",
      "metadata": {
        "colab": {
          "base_uri": "https://localhost:8080/"
        },
        "id": "08oFkECW0may",
        "outputId": "f39ac0ce-7079-4f53-f9c6-958145949085"
      },
      "source": [
        "y[:5]"
      ],
      "execution_count": null,
      "outputs": [
        {
          "output_type": "execute_result",
          "data": {
            "text/plain": [
              "tensor([ 515,   32,  384, 1680,    2])"
            ]
          },
          "metadata": {},
          "execution_count": 45
        }
      ]
    },
    {
      "cell_type": "code",
      "metadata": {
        "colab": {
          "base_uri": "https://localhost:8080/"
        },
        "id": "-zzb3EFi0may",
        "outputId": "094f24c4-fecc-4260-b59e-3f87694f0934"
      },
      "source": [
        "x.shape, y.shape"
      ],
      "execution_count": null,
      "outputs": [
        {
          "output_type": "execute_result",
          "data": {
            "text/plain": [
              "(torch.Size([512]), torch.Size([512]))"
            ]
          },
          "metadata": {},
          "execution_count": 46
        }
      ]
    },
    {
      "cell_type": "code",
      "metadata": {
        "id": "lzWw9hP70maz"
      },
      "source": [
        "class CBOW(torch.nn.Module):\n",
        "    \n",
        "    def __init__(self, vocab_size, embedding_dim, pad_index):\n",
        "        \n",
        "        super().__init__()\n",
        "        \n",
        "        if pad_index > 0:\n",
        "            vocab_size += 1\n",
        "        \n",
        "        self.in_embedding = torch.nn.Embedding(num_embeddings=vocab_size, \n",
        "                                               embedding_dim=embedding_dim,\n",
        "                                               padding_idx=pad_index)\n",
        "        \n",
        "        self.out_embedding = torch.nn.Linear(in_features=embedding_dim,\n",
        "                                             out_features=vocab_size, bias=False)\n",
        "        \n",
        "    def forward(self, x):\n",
        "        \n",
        "        x = self.in_embedding(x).sum(dim=-2)\n",
        "        x = self.out_embedding(x)\n",
        "        \n",
        "        return x"
      ],
      "execution_count": null,
      "outputs": []
    },
    {
      "cell_type": "markdown",
      "metadata": {
        "id": "cahYp5fU0maz"
      },
      "source": [
        "# Мы будем учить модель Skipgram\n",
        "Реализуйте ее"
      ]
    },
    {
      "cell_type": "code",
      "metadata": {
        "id": "cYIcHcHl0maz"
      },
      "source": [
        "# CODE\n",
        "class SkipGram(torch.nn.Module):\n",
        "\n",
        "  def __init__(self, vocab_size, embedding_dim):\n",
        "    \n",
        "    super().__init__()\n",
        "    \n",
        "    self.in_embedding = torch.nn.Embedding(num_embeddings=vocab_size, \n",
        "                                               embedding_dim=embedding_dim)\n",
        "    \n",
        "    self.out_embedding = torch.nn.Linear(in_features=embedding_dim,\n",
        "                                             out_features=vocab_size, bias=False)\n",
        "  def forward(self,x):\n",
        "    x = self.in_embedding(x)\n",
        "    x = self.out_embedding(x)\n",
        "\n",
        "    return x"
      ],
      "execution_count": 6,
      "outputs": []
    },
    {
      "cell_type": "code",
      "metadata": {
        "id": "wU5YsJuO0ma0"
      },
      "source": [
        "#from word2vec_utils import SkipGram"
      ],
      "execution_count": null,
      "outputs": []
    },
    {
      "cell_type": "code",
      "metadata": {
        "id": "Mv3Tbuz30ma0"
      },
      "source": [
        "# размерность эмбеддинга\n",
        "# маленькая, чтобы мы могли недолго поучить ворд2век и увидеть результаты\n",
        "EMBEDDING_DIM = 20"
      ],
      "execution_count": 44,
      "outputs": []
    },
    {
      "cell_type": "code",
      "metadata": {
        "id": "jOGmPpyT0ma0"
      },
      "source": [
        "model = SkipGram(vocab_size=len(word2index), embedding_dim=EMBEDDING_DIM)"
      ],
      "execution_count": 45,
      "outputs": []
    },
    {
      "cell_type": "code",
      "metadata": {
        "colab": {
          "base_uri": "https://localhost:8080/"
        },
        "id": "JQ3KLAep0ma0",
        "outputId": "9f257886-005e-4def-ced7-dffd0b960b75"
      },
      "source": [
        "with torch.no_grad():\n",
        "    pred = model(x)\n",
        "\n",
        "pred.shape"
      ],
      "execution_count": 46,
      "outputs": [
        {
          "output_type": "execute_result",
          "data": {
            "text/plain": [
              "torch.Size([512, 13076])"
            ]
          },
          "metadata": {},
          "execution_count": 46
        }
      ]
    },
    {
      "cell_type": "code",
      "metadata": {
        "id": "ezx3EsGp0ma0"
      },
      "source": [
        "optimizer = torch.optim.Adam(params=model.parameters(), lr=0.0001)\n",
        "\n",
        "# aka loss function\n",
        "criterion = torch.nn.CrossEntropyLoss()"
      ],
      "execution_count": 47,
      "outputs": []
    },
    {
      "cell_type": "markdown",
      "metadata": {
        "id": "N6rw6Diz0ma1"
      },
      "source": [
        "# Допишите обучалку"
      ]
    },
    {
      "cell_type": "code",
      "metadata": {
        "id": "yR13Zs0d0ma1"
      },
      "source": [
        "def train_model(model,\n",
        "                optimizer,\n",
        "                dataset_loader,\n",
        "                epochs=3):\n",
        "  \n",
        "  criterion = torch.nn.CrossEntropyLoss()\n",
        "  losses = []\n",
        "\n",
        "  for n_epoch in range(epochs):\n",
        "    try:\n",
        "      progress_bar = tqdm(total=len(dataset_loader.dataset), desc='Epoch {}'.format(n_epoch + 1))\n",
        "      \n",
        "      for x, y in dataset_loader:\n",
        "        # CODE\n",
        "        pred = model(x)\n",
        "        loss = criterion(pred, y)\n",
        "        loss.backward()\n",
        "        optimizer.step()\n",
        "        losses.append(loss.item())\n",
        "        progress_bar.set_postfix(loss=np.mean(losses[-100:]))\n",
        "        progress_bar.update(x.shape[0])\n",
        "      progress_bar.close()\n",
        "    except KeyboardInterrupt:\n",
        "      progress_bar.close()\n",
        "      break\n",
        "    \n",
        "  return losses"
      ],
      "execution_count": 48,
      "outputs": []
    },
    {
      "cell_type": "code",
      "metadata": {
        "colab": {
          "base_uri": "https://localhost:8080/"
        },
        "id": "aOdw3_9q0uNS",
        "outputId": "3af3f986-9d63-418b-f9cf-0f1571962a16"
      },
      "source": [
        "losses = train_model(model, optimizer, dataset_loader)"
      ],
      "execution_count": 49,
      "outputs": [
        {
          "output_type": "stream",
          "name": "stderr",
          "text": [
            "Epoch 1: 100%|██████████| 2983124/2983124 [07:41<00:00, 6462.23it/s, loss=7.38]\n",
            "Epoch 2: 100%|██████████| 2983124/2983124 [07:39<00:00, 6492.30it/s, loss=7.28]\n",
            "Epoch 3: 100%|██████████| 2983124/2983124 [07:39<00:00, 6498.65it/s, loss=7.13]\n"
          ]
        }
      ]
    },
    {
      "cell_type": "code",
      "metadata": {
        "colab": {
          "base_uri": "https://localhost:8080/",
          "height": 312
        },
        "id": "likHd3yr0ma1",
        "outputId": "47a1ba5e-28cf-4a6d-8390-a7883d87d573"
      },
      "source": [
        "plt.title('SkipGram Training Process')\n",
        "plt.xlabel('Itearations')\n",
        "plt.ylabel('Loss')\n",
        "plt.grid()\n",
        "plt.plot(losses)"
      ],
      "execution_count": 50,
      "outputs": [
        {
          "output_type": "execute_result",
          "data": {
            "text/plain": [
              "[<matplotlib.lines.Line2D at 0x7f841863a7d0>]"
            ]
          },
          "metadata": {},
          "execution_count": 50
        },
        {
          "output_type": "display_data",
          "data": {
            "image/png": "[encoded data removed]",
            "text/plain": [
              "<Figure size 432x288 with 1 Axes>"
            ]
          },
          "metadata": {
            "needs_background": "light"
          }
        }
      ]
    },
    {
      "cell_type": "code",
      "metadata": {
        "id": "mpd-ZYdy0ma1"
      },
      "source": [
        "# проверка, что хоть что-то выучилось\n",
        "assert np.mean(losses[-1000:]) < 7.5"
      ],
      "execution_count": null,
      "outputs": []
    },
    {
      "cell_type": "code",
      "metadata": {
        "id": "pX83FYoF0ma1"
      },
      "source": [
        "embedding_matrix = model.in_embedding.weight.detach()"
      ],
      "execution_count": null,
      "outputs": []
    },
    {
      "cell_type": "code",
      "metadata": {
        "id": "_PA17gQt0ma1"
      },
      "source": [
        "def cos_sim(embedding_matrix, token2id, word1, word2):\n",
        "    \n",
        "    i1 = token2id[word1]\n",
        "    i2 = token2id[word2]\n",
        "    \n",
        "    v1, v2 = embedding_matrix[i1], embedding_matrix[i2]\n",
        "    \n",
        "    v1_n = v1.div(v1.norm(keepdim=True))\n",
        "    v2_n = v2.div(v2.norm(keepdim=True))\n",
        "    '''\n",
        "    добавим .norm(), чтобы не было отрицательных значений близости\n",
        "    ведь в эталоне все значения будут нормализованы от 0 до 1\n",
        "    '''\n",
        "    similarity = torch.dot(v1_n, v2_n).norm().item()\n",
        "    \n",
        "    return similarity"
      ],
      "execution_count": 22,
      "outputs": []
    },
    {
      "cell_type": "markdown",
      "metadata": {
        "id": "uVvnpNXL0ma2"
      },
      "source": [
        "# Косинусная близость\n",
        "От 0 до 1, где 0 - вектора абсолютно разные, где 1 - идентичные."
      ]
    },
    {
      "cell_type": "code",
      "metadata": {
        "colab": {
          "base_uri": "https://localhost:8080/"
        },
        "id": "7Owy2mP00ma2",
        "outputId": "703aedb2-c1cf-4835-b75f-1fd933f8a997"
      },
      "source": [
        "cos_sim(embedding_matrix, word2index, 'день', 'месяц')"
      ],
      "execution_count": 51,
      "outputs": [
        {
          "output_type": "execute_result",
          "data": {
            "text/plain": [
              "0.11255455017089844"
            ]
          },
          "metadata": {},
          "execution_count": 51
        }
      ]
    },
    {
      "cell_type": "code",
      "metadata": {
        "colab": {
          "base_uri": "https://localhost:8080/"
        },
        "id": "ELktlX1o0ma2",
        "outputId": "cbffba3c-e317-4b16-c87f-acd11b3f49e6"
      },
      "source": [
        "cos_sim(embedding_matrix, word2index, 'минута', 'месяц')"
      ],
      "execution_count": 52,
      "outputs": [
        {
          "output_type": "execute_result",
          "data": {
            "text/plain": [
              "0.172941654920578"
            ]
          },
          "metadata": {},
          "execution_count": 52
        }
      ]
    },
    {
      "cell_type": "code",
      "metadata": {
        "colab": {
          "base_uri": "https://localhost:8080/"
        },
        "id": "FlnGqg3A0ma2",
        "outputId": "9723f133-bd81-4ea7-dee7-37f34eb4174a"
      },
      "source": [
        "cos_sim(embedding_matrix, word2index, 'сотрудник', 'сотрудница')"
      ],
      "execution_count": 53,
      "outputs": [
        {
          "output_type": "execute_result",
          "data": {
            "text/plain": [
              "0.179788276553154"
            ]
          },
          "metadata": {},
          "execution_count": 53
        }
      ]
    },
    {
      "cell_type": "code",
      "metadata": {
        "colab": {
          "base_uri": "https://localhost:8080/"
        },
        "id": "qNyhVxff0ma2",
        "outputId": "7a165bdf-7ae7-47e8-8388-dc424ea26830"
      },
      "source": [
        "cos_sim(embedding_matrix, word2index, 'вклад', 'перевод')"
      ],
      "execution_count": 54,
      "outputs": [
        {
          "output_type": "execute_result",
          "data": {
            "text/plain": [
              "0.19123829901218414"
            ]
          },
          "metadata": {},
          "execution_count": 54
        }
      ]
    },
    {
      "cell_type": "code",
      "metadata": {
        "colab": {
          "base_uri": "https://localhost:8080/",
          "height": 37
        },
        "id": "mn2cg4FM0ma2",
        "outputId": "6cd771a3-10b3-4415-90f1-ec5c7ae6816d"
      },
      "source": [
        "random_word = random.choice(list(word2index.keys()))\n",
        "sim = cos_sim(embedding_matrix, word2index, 'день', random_word)\n",
        "'Косинусная близость слова \"день\" к случайному выбраному слову \"{}\" равна {:.3f}'.format(random_word, sim)"
      ],
      "execution_count": 55,
      "outputs": [
        {
          "output_type": "execute_result",
          "data": {
            "application/vnd.google.colaboratory.intrinsic+json": {
              "type": "string"
            },
            "text/plain": [
              "'Косинусная близость слова \"день\" к случайному выбраному слову \"внятно\" равна 0.279'"
            ]
          },
          "metadata": {},
          "execution_count": 55
        }
      ]
    },
    {
      "cell_type": "code",
      "metadata": {
        "id": "ovcKn03L0ma3"
      },
      "source": [
        "freq = {}\n",
        "\n",
        "for text in corpus:\n",
        "    for token in text:\n",
        "        if token in freq:\n",
        "            freq[token] += 1\n",
        "        else:\n",
        "            freq[token] = 1"
      ],
      "execution_count": 56,
      "outputs": []
    },
    {
      "cell_type": "code",
      "metadata": {
        "id": "xxE72VxD0ma3"
      },
      "source": [
        "sorted_freq = [(k, freq[k]) for k in sorted(freq, key=freq.get, reverse=True)]\n",
        "top_sorted_freq = sorted_freq[0:200]"
      ],
      "execution_count": null,
      "outputs": []
    },
    {
      "cell_type": "code",
      "metadata": {
        "colab": {
          "base_uri": "https://localhost:8080/"
        },
        "id": "f8mmHYAO0ma3",
        "outputId": "525413ef-0114-49ef-8bf7-cd964c838356"
      },
      "source": [
        "tsne = TSNE(n_components=2, init='pca', random_state=42, verbose=2)\n",
        "reduced = tsne.fit_transform(embedding_matrix)"
      ],
      "execution_count": null,
      "outputs": [
        {
          "name": "stderr",
          "output_type": "stream",
          "text": [
            "/usr/local/lib/python3.7/dist-packages/sklearn/manifold/_t_sne.py:793: FutureWarning: The default learning rate in TSNE will change from 200.0 to 'auto' in 1.2.\n",
            "  FutureWarning,\n"
          ]
        },
        {
          "name": "stdout",
          "output_type": "stream",
          "text": [
            "[t-SNE] Computing 91 nearest neighbors...\n",
            "[t-SNE] Indexed 13076 samples in 0.005s...\n",
            "[t-SNE] Computed neighbors for 13076 samples in 4.785s...\n",
            "[t-SNE] Computed conditional probabilities for sample 1000 / 13076\n",
            "[t-SNE] Computed conditional probabilities for sample 2000 / 13076\n",
            "[t-SNE] Computed conditional probabilities for sample 3000 / 13076\n",
            "[t-SNE] Computed conditional probabilities for sample 4000 / 13076\n",
            "[t-SNE] Computed conditional probabilities for sample 5000 / 13076\n",
            "[t-SNE] Computed conditional probabilities for sample 6000 / 13076\n",
            "[t-SNE] Computed conditional probabilities for sample 7000 / 13076\n",
            "[t-SNE] Computed conditional probabilities for sample 8000 / 13076\n",
            "[t-SNE] Computed conditional probabilities for sample 9000 / 13076\n",
            "[t-SNE] Computed conditional probabilities for sample 10000 / 13076\n",
            "[t-SNE] Computed conditional probabilities for sample 11000 / 13076\n",
            "[t-SNE] Computed conditional probabilities for sample 12000 / 13076\n",
            "[t-SNE] Computed conditional probabilities for sample 13000 / 13076\n",
            "[t-SNE] Computed conditional probabilities for sample 13076 / 13076\n",
            "[t-SNE] Mean sigma: 1.029843\n",
            "[t-SNE] Computed conditional probabilities in 0.617s\n"
          ]
        },
        {
          "name": "stderr",
          "output_type": "stream",
          "text": [
            "/usr/local/lib/python3.7/dist-packages/sklearn/manifold/_t_sne.py:986: FutureWarning: The PCA initialization in TSNE will change to have the standard deviation of PC1 equal to 1e-4 in 1.2. This will ensure better convergence.\n",
            "  FutureWarning,\n"
          ]
        },
        {
          "name": "stdout",
          "output_type": "stream",
          "text": [
            "[t-SNE] Iteration 50: error = 97.2607574, gradient norm = 0.0001051 (50 iterations in 21.531s)\n",
            "[t-SNE] Iteration 100: error = 97.2898026, gradient norm = 0.0000036 (50 iterations in 6.128s)\n",
            "[t-SNE] Iteration 150: error = 97.2900543, gradient norm = 0.0000036 (50 iterations in 5.502s)\n",
            "[t-SNE] Iteration 200: error = 97.2900696, gradient norm = 0.0000035 (50 iterations in 5.457s)\n",
            "[t-SNE] Iteration 250: error = 97.2900696, gradient norm = 0.0000073 (50 iterations in 6.212s)\n",
            "[t-SNE] KL divergence after 250 iterations with early exaggeration: 97.290070\n",
            "[t-SNE] Iteration 300: error = 4.7825232, gradient norm = 0.0005944 (50 iterations in 8.022s)\n",
            "[t-SNE] Iteration 350: error = 4.2838492, gradient norm = 0.0006978 (50 iterations in 11.221s)\n",
            "[t-SNE] Iteration 400: error = 4.1362667, gradient norm = 0.0003445 (50 iterations in 9.449s)\n",
            "[t-SNE] Iteration 450: error = 4.0522065, gradient norm = 0.0002253 (50 iterations in 9.097s)\n",
            "[t-SNE] Iteration 500: error = 3.9950039, gradient norm = 0.0001682 (50 iterations in 8.599s)\n",
            "[t-SNE] Iteration 550: error = 3.9509189, gradient norm = 0.0001377 (50 iterations in 8.045s)\n",
            "[t-SNE] Iteration 600: error = 3.9165826, gradient norm = 0.0001113 (50 iterations in 8.260s)\n",
            "[t-SNE] Iteration 650: error = 3.8880842, gradient norm = 0.0000921 (50 iterations in 8.615s)\n",
            "[t-SNE] Iteration 700: error = 3.8638186, gradient norm = 0.0000788 (50 iterations in 8.615s)\n",
            "[t-SNE] Iteration 750: error = 3.8433158, gradient norm = 0.0000693 (50 iterations in 8.451s)\n",
            "[t-SNE] Iteration 800: error = 3.8256292, gradient norm = 0.0000607 (50 iterations in 8.317s)\n",
            "[t-SNE] Iteration 850: error = 3.8106756, gradient norm = 0.0000559 (50 iterations in 8.233s)\n",
            "[t-SNE] Iteration 900: error = 3.7977834, gradient norm = 0.0000498 (50 iterations in 8.312s)\n",
            "[t-SNE] Iteration 950: error = 3.7864952, gradient norm = 0.0000446 (50 iterations in 8.432s)\n",
            "[t-SNE] Iteration 1000: error = 3.7765396, gradient norm = 0.0000406 (50 iterations in 8.133s)\n",
            "[t-SNE] KL divergence after 1000 iterations: 3.776540\n"
          ]
        }
      ]
    },
    {
      "cell_type": "code",
      "metadata": {
        "id": "BKYpbLui0ma4"
      },
      "source": [
        "top_words = [a for a,_ in top_sorted_freq]"
      ],
      "execution_count": null,
      "outputs": []
    },
    {
      "cell_type": "code",
      "metadata": {
        "id": "89R6A9Yz0ma4"
      },
      "source": [
        "inds = [word2index[word] for word in top_words]\n",
        "x_coords = [coords[0] for coords in reduced[inds]]\n",
        "y_coords = [coords[1] for coords in reduced[inds]]"
      ],
      "execution_count": null,
      "outputs": []
    },
    {
      "cell_type": "code",
      "metadata": {
        "colab": {
          "base_uri": "https://localhost:8080/",
          "height": 863
        },
        "id": "V0qhcsPl0ma4",
        "outputId": "e021b45c-9d9a-49d4-a257-26ed2c70299e"
      },
      "source": [
        "for (x, y, word) in zip(x_coords, y_coords, top_words):\n",
        "    plt.scatter(x, y, marker='.', color='blue')\n",
        "    plt.text(x+0.01, y+0.01, word, fontsize=9)\n",
        "plt.show()"
      ],
      "execution_count": null,
      "outputs": [
        {
          "data": {
            "image/png": "[encoded data removed]",
            "text/plain": [
              "<Figure size 1080x1080 with 1 Axes>"
            ]
          },
          "metadata": {},
          "output_type": "display_data"
        }
      ]
    },
    {
      "cell_type": "markdown",
      "metadata": {
        "id": "CW66TsOsJruB"
      },
      "source": [
        "# Оценка качества эмбеддингов"
      ]
    },
    {
      "cell_type": "code",
      "metadata": {
        "id": "X_uLu71oJvTE"
      },
      "source": [
        "import pandas as pd\n",
        "\n",
        "evaluation_df = pd.read_csv('ru_simlex965_tagged.tsv', delimiter='\\t')"
      ],
      "execution_count": 9,
      "outputs": []
    },
    {
      "cell_type": "code",
      "metadata": {
        "id": "eCOz_ZbiLtO9"
      },
      "source": [
        "evaluation_df['# Word1'] = evaluation_df.apply(lambda row: row['# Word1'].split('_')[0],axis=1)\n",
        "evaluation_df['Word2'] = evaluation_df.apply(lambda row: row['Word2'].split('_')[0],axis=1)"
      ],
      "execution_count": 10,
      "outputs": []
    },
    {
      "cell_type": "code",
      "metadata": {
        "id": "OEkfrMpVyR-V"
      },
      "source": [
        "evaluation_df['Average Score']=((evaluation_df['Average Score']-evaluation_df['Average Score'].min())/(evaluation_df['Average Score'].max()-evaluation_df['Average Score'].min()))"
      ],
      "execution_count": 58,
      "outputs": []
    },
    {
      "cell_type": "code",
      "metadata": {
        "id": "6OPBQ8cs3qPX"
      },
      "source": [
        "def get_scores(embedding_matrix,\n",
        "               word2index,\n",
        "               word1_column='# Word1',\n",
        "               word2_column='Word2',\n",
        "               df=evaluation_df):\n",
        "  sim_scores = []\n",
        "  words = list(word2index.keys())\n",
        "  for i in range(0, len(df)):\n",
        "    if df[word1_column][i] in words and df[word2_column][i] in words:\n",
        "      sim_score = cos_sim(embedding_matrix, word2index, \n",
        "                          df[word1_column][i],df[word2_column][i])\n",
        "      sim_scores.append(sim_score)\n",
        "    else:\n",
        "      # Многих слов из тестового датасета просто нет в модели\n",
        "      sim_scores.append(None)\n",
        "\n",
        "  return np.array(sim_scores)\n",
        "\n",
        "\n",
        "def get_mse(y_pred, y_true):\n",
        "  difference_array = np.subtract(y_pred, y_true)\n",
        "  squared_array = np.square(difference_array)\n",
        "  mse = squared_array.mean()\n",
        "\n",
        "  return mse"
      ],
      "execution_count": 12,
      "outputs": []
    },
    {
      "cell_type": "code",
      "metadata": {
        "id": "A8zhG5Px7x9s"
      },
      "source": [
        "y_true = np.array(evaluation_df['Average Score'].tolist())\n",
        "y_pred = get_scores(embedding_matrix, word2index)"
      ],
      "execution_count": 59,
      "outputs": []
    },
    {
      "cell_type": "code",
      "metadata": {
        "colab": {
          "base_uri": "https://localhost:8080/"
        },
        "id": "n7R8BNjKAJtB",
        "outputId": "d431db70-c993-4cfa-c2e2-4e6e7e2cbcf1"
      },
      "source": [
        "len(y_true)"
      ],
      "execution_count": 60,
      "outputs": [
        {
          "output_type": "execute_result",
          "data": {
            "text/plain": [
              "965"
            ]
          },
          "metadata": {},
          "execution_count": 60
        }
      ]
    },
    {
      "cell_type": "code",
      "metadata": {
        "id": "N-CQKBgpOGOt"
      },
      "source": [
        "none_indexes = np.where(y_pred == None)[0]"
      ],
      "execution_count": 61,
      "outputs": []
    },
    {
      "cell_type": "markdown",
      "metadata": {
        "id": "B-rnayBF5qZw"
      },
      "source": [
        "Оставим только скоры слов, которые есть в предсказанных"
      ]
    },
    {
      "cell_type": "code",
      "metadata": {
        "id": "rC13doj-OK_I"
      },
      "source": [
        "y_true = np.delete(y_true, none_indexes)\n",
        "y_pred = np.delete(y_pred, none_indexes)"
      ],
      "execution_count": 62,
      "outputs": []
    },
    {
      "cell_type": "markdown",
      "metadata": {
        "id": "Jo0TbDWh9DLp"
      },
      "source": [
        "Посмотрим сколько пар имеют слова отсутствющие в модели"
      ]
    },
    {
      "cell_type": "code",
      "metadata": {
        "colab": {
          "base_uri": "https://localhost:8080/"
        },
        "id": "nMEJQMdZANB7",
        "outputId": "e43964d6-8a8d-4612-8475-a869b6cc66d9"
      },
      "source": [
        "len(y_true)"
      ],
      "execution_count": 63,
      "outputs": [
        {
          "output_type": "execute_result",
          "data": {
            "text/plain": [
              "498"
            ]
          },
          "metadata": {},
          "execution_count": 63
        }
      ]
    },
    {
      "cell_type": "code",
      "metadata": {
        "colab": {
          "base_uri": "https://localhost:8080/"
        },
        "id": "LwnVgmOyIJUL",
        "outputId": "377d3cdb-4571-49ee-b713-146456152243"
      },
      "source": [
        "mse = get_mse(y_pred, y_true)\n",
        "mse"
      ],
      "execution_count": 64,
      "outputs": [
        {
          "output_type": "execute_result",
          "data": {
            "text/plain": [
              "0.12769191937280994"
            ]
          },
          "metadata": {},
          "execution_count": 64
        }
      ]
    },
    {
      "cell_type": "code",
      "metadata": {
        "colab": {
          "base_uri": "https://localhost:8080/"
        },
        "id": "0V8XqNm_VcPU",
        "outputId": "d1145bbf-c94a-4933-8da8-d68885d0f260"
      },
      "source": [
        "rmse = np.sqrt(mse)\n",
        "rmse"
      ],
      "execution_count": 65,
      "outputs": [
        {
          "output_type": "execute_result",
          "data": {
            "text/plain": [
              "0.3573400612481197"
            ]
          },
          "metadata": {},
          "execution_count": 65
        }
      ]
    },
    {
      "cell_type": "markdown",
      "metadata": {
        "id": "EBAATySB1cSV"
      },
      "source": [
        "# Эксперименты\n",
        "\n",
        "Я уменьшил порог удаления редких слов до 5. Увеличил корпус до 150000, сделал окно 4, увеличил размерность матрицы до 30. Воспользовался MyStem3 вместо PyMorphy2 для лемматизации (вроде MyStem лучше лемметизирует + его начальная форма глаголов больше похожа на ту которая в таблице с которой сравниваем).\n",
        "\n",
        "Файл нового корпуса и измененная тетрадка с препроцом лежат в репозитории с домашкой."
      ]
    },
    {
      "cell_type": "code",
      "metadata": {
        "id": "loml3GwneHeW"
      },
      "source": [
        "x = 0\n",
        "y = 0"
      ],
      "execution_count": 32,
      "outputs": []
    },
    {
      "cell_type": "code",
      "metadata": {
        "id": "zyudfr8yBbFy"
      },
      "source": [
        "with open('new_processed_corpus.json') as f:\n",
        "    corpus_2 = json.load(f)"
      ],
      "execution_count": 14,
      "outputs": []
    },
    {
      "cell_type": "code",
      "metadata": {
        "id": "K1a5cmmgT_Ii"
      },
      "source": [
        "word2index_2 = get_word2index('new_processed_corpus.json')"
      ],
      "execution_count": 15,
      "outputs": []
    },
    {
      "cell_type": "code",
      "metadata": {
        "colab": {
          "base_uri": "https://localhost:8080/"
        },
        "id": "wkY-IJwN8Xgr",
        "outputId": "9236ba0d-6ba6-4c8d-8f15-8867136e376e"
      },
      "source": [
        "dataset_2 = SkipgramDataset(corpus_2, word2index_2, window=4)\n",
        "BATCH_SIZE = 512\n",
        "dataset_loader_2 = DataLoader(dataset_2, shuffle=True, batch_size=BATCH_SIZE)\n",
        "for x, y in dataset_loader_2:\n",
        "    break\n",
        "x.shape, y.shape"
      ],
      "execution_count": 16,
      "outputs": [
        {
          "output_type": "stream",
          "name": "stderr",
          "text": [
            "100%|██████████| 150000/150000 [00:04<00:00, 33734.45it/s]\n"
          ]
        },
        {
          "output_type": "execute_result",
          "data": {
            "text/plain": [
              "(torch.Size([512]), torch.Size([512]))"
            ]
          },
          "metadata": {},
          "execution_count": 16
        }
      ]
    },
    {
      "cell_type": "code",
      "metadata": {
        "id": "G8K_gtPwaoN8"
      },
      "source": [
        "EMBEDDING_DIM = 30"
      ],
      "execution_count": 17,
      "outputs": []
    },
    {
      "cell_type": "code",
      "metadata": {
        "colab": {
          "base_uri": "https://localhost:8080/"
        },
        "id": "qbPDKIky7m02",
        "outputId": "242407fa-8bc8-4b83-fc12-492f459495dc"
      },
      "source": [
        "model_2 = SkipGram(vocab_size=len(word2index_2), embedding_dim=EMBEDDING_DIM)\n",
        "with torch.no_grad():\n",
        "    pred = model_2(x)\n",
        "\n",
        "pred.shape\n"
      ],
      "execution_count": 18,
      "outputs": [
        {
          "output_type": "execute_result",
          "data": {
            "text/plain": [
              "torch.Size([512, 18763])"
            ]
          },
          "metadata": {},
          "execution_count": 18
        }
      ]
    },
    {
      "cell_type": "code",
      "metadata": {
        "id": "aD4gyBOtYfsf"
      },
      "source": [
        "optimizer = torch.optim.Adam(params=model_2.parameters(), lr=0.0001)\n",
        "\n",
        "# aka loss function\n",
        "criterion = torch.nn.CrossEntropyLoss()"
      ],
      "execution_count": 19,
      "outputs": []
    },
    {
      "cell_type": "code",
      "metadata": {
        "colab": {
          "base_uri": "https://localhost:8080/"
        },
        "id": "MPBZiYnvW99L",
        "outputId": "edc5881a-b50c-453f-e056-977ef7ba46cc"
      },
      "source": [
        "losses = train_model(model_2, optimizer, dataset_loader_2)"
      ],
      "execution_count": 20,
      "outputs": [
        {
          "output_type": "stream",
          "name": "stderr",
          "text": [
            "Epoch 1: 100%|██████████| 7759964/7759964 [31:13<00:00, 4141.13it/s, loss=7.41]\n",
            "Epoch 2: 100%|██████████| 7759964/7759964 [40:11<00:00, 3218.40it/s, loss=7.34]\n",
            "Epoch 3: 100%|██████████| 7759964/7759964 [38:33<00:00, 3354.06it/s, loss=7.37]\n"
          ]
        }
      ]
    },
    {
      "cell_type": "code",
      "metadata": {
        "id": "u65BF9CZbKlt"
      },
      "source": [
        "embedding_matrix = model_2.in_embedding.weight.detach()"
      ],
      "execution_count": 23,
      "outputs": []
    },
    {
      "cell_type": "code",
      "metadata": {
        "id": "NTWfrA7-xsW2"
      },
      "source": [
        "y_true = np.array(evaluation_df['Average Score'].tolist())\n",
        "y_pred = get_scores(embedding_matrix, word2index_2)"
      ],
      "execution_count": 24,
      "outputs": []
    },
    {
      "cell_type": "code",
      "metadata": {
        "colab": {
          "base_uri": "https://localhost:8080/"
        },
        "id": "3UvS2osQxlSD",
        "outputId": "08d09e2d-6a85-4f59-db17-3a4ef1ade7fe"
      },
      "source": [
        "len(y_true)"
      ],
      "execution_count": 25,
      "outputs": [
        {
          "output_type": "execute_result",
          "data": {
            "text/plain": [
              "965"
            ]
          },
          "metadata": {},
          "execution_count": 25
        }
      ]
    },
    {
      "cell_type": "code",
      "metadata": {
        "id": "oRrjHN3CxvMN"
      },
      "source": [
        "none_indexes = np.where(y_pred == None)[0]"
      ],
      "execution_count": 26,
      "outputs": []
    },
    {
      "cell_type": "markdown",
      "metadata": {
        "id": "M87j_zk684bo"
      },
      "source": [
        "Посмотрим сколько пар имеют слова отсутствющие в модели"
      ]
    },
    {
      "cell_type": "code",
      "metadata": {
        "colab": {
          "base_uri": "https://localhost:8080/"
        },
        "id": "eqEftSOwxhfd",
        "outputId": "1fd1a85e-d979-401b-d463-b390b591650f"
      },
      "source": [
        "len(none_indexes)"
      ],
      "execution_count": 27,
      "outputs": [
        {
          "output_type": "execute_result",
          "data": {
            "text/plain": [
              "307"
            ]
          },
          "metadata": {},
          "execution_count": 27
        }
      ]
    },
    {
      "cell_type": "code",
      "metadata": {
        "id": "c9jyubIZxyDK"
      },
      "source": [
        "y_true = np.delete(y_true, none_indexes)\n",
        "y_pred = np.delete(y_pred, none_indexes)"
      ],
      "execution_count": 28,
      "outputs": []
    },
    {
      "cell_type": "code",
      "metadata": {
        "colab": {
          "base_uri": "https://localhost:8080/"
        },
        "id": "JVFFxEMWxvb3",
        "outputId": "9d8accc2-86f9-4a79-de0c-df16d6c01697"
      },
      "source": [
        "len(y_true)"
      ],
      "execution_count": 29,
      "outputs": [
        {
          "output_type": "execute_result",
          "data": {
            "text/plain": [
              "658"
            ]
          },
          "metadata": {},
          "execution_count": 29
        }
      ]
    },
    {
      "cell_type": "code",
      "metadata": {
        "colab": {
          "base_uri": "https://localhost:8080/"
        },
        "id": "OC_zvG8Kx04V",
        "outputId": "c93c4010-b3bd-46a3-d2ba-a739cc3a1841"
      },
      "source": [
        "mse = get_mse(y_pred, y_true)\n",
        "mse"
      ],
      "execution_count": 30,
      "outputs": [
        {
          "output_type": "execute_result",
          "data": {
            "text/plain": [
              "0.10767093973459022"
            ]
          },
          "metadata": {},
          "execution_count": 30
        }
      ]
    },
    {
      "cell_type": "code",
      "metadata": {
        "colab": {
          "base_uri": "https://localhost:8080/"
        },
        "id": "3JiGgyo-x2WT",
        "outputId": "ad522c67-8cb4-4866-a309-5b92b2e7c356"
      },
      "source": [
        "rmse = np.sqrt(mse)\n",
        "rmse"
      ],
      "execution_count": 31,
      "outputs": [
        {
          "output_type": "execute_result",
          "data": {
            "text/plain": [
              "0.32813250331929966"
            ]
          },
          "metadata": {},
          "execution_count": 31
        }
      ]
    },
    {
      "cell_type": "markdown",
      "metadata": {
        "id": "vc8JgebA3Jhv"
      },
      "source": [
        "Как можно видеть, результат стал лучше. В-первую очередь, мне кажется это из-за увеличения размерности матрицы и корпуса. Плюс, лемматизация MyStem'ом помогла включить в выборку больше пар из эталона (так как там начальные формы глаголов например записываются не так как в PyMorphy)."
      ]
    },
    {
      "cell_type": "markdown",
      "metadata": {
        "collapsed": false,
        "id": "suCy0eFd0ma5"
      },
      "source": [
        "# Оценка\n",
        "1. Вы добрались сюда и все работает, значит уже получили 7 баллов.\n",
        "2. 8 баллов - Взяли корпус для оценка качества эмбеддингов [здесь](https://rusvectores.org/static/testsets/ru_simlex965_tagged.tsv). Описание к нему [здесь](https://arxiv.org/pdf/1801.06407.pdf). Его английская версия для понимания, того что же это такое [тут](https://fh295.github.io/simlex.html). Если в кратце - он похож а гугл аналогии, просто иначе составлен. Определили качество своих эмбеддингов. Как качество измерить? Можете все значения отнормировать (привести к 1) и затем считать MSE между тем что у вас и что в оригинале.\n",
        "3. 9 баллов - Поставили эксперименты, поменяли любые параметры, хоть корпус увеличили или как то почистили. Показали метрики до и после. После должно быть лучше, иначе это все еще 8 баллов.\n",
        "4. 10 баллов - удивили своим подходом (или просто удивили) пока делили на 9 баллов"
      ]
    },
    {
      "cell_type": "code",
      "metadata": {
        "id": "Ir_hAxYr0ma5"
      },
      "source": [
        ""
      ],
      "execution_count": null,
      "outputs": []
    }
  ]
}